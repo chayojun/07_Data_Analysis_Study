{
 "cells": [
  {
   "cell_type": "code",
   "execution_count": null,
   "id": "5552b2d0",
   "metadata": {},
   "outputs": [],
   "source": []
  },
  {
   "cell_type": "code",
   "execution_count": null,
   "id": "d04c1d78",
   "metadata": {},
   "outputs": [],
   "source": []
  },
  {
   "cell_type": "code",
   "execution_count": null,
   "id": "80c7d8b7",
   "metadata": {},
   "outputs": [],
   "source": []
  },
  {
   "cell_type": "code",
   "execution_count": null,
   "id": "3f9885ab",
   "metadata": {},
   "outputs": [],
   "source": []
  },
  {
   "cell_type": "code",
   "execution_count": 3,
   "id": "5e759476",
   "metadata": {},
   "outputs": [
    {
     "name": "stdout",
     "output_type": "stream",
     "text": [
      "차요준\n"
     ]
    }
   ],
   "source": [
    "name = \"차요준\"\n",
    "age = 29\n",
    "item_count = 100\n",
    "\n",
    "print(name)"
   ]
  },
  {
   "cell_type": "code",
   "execution_count": 4,
   "id": "f77ca419",
   "metadata": {},
   "outputs": [
    {
     "name": "stdout",
     "output_type": "stream",
     "text": [
      "차요준 29 100\n"
     ]
    }
   ],
   "source": [
    "print(name, age, item_count)"
   ]
  },
  {
   "cell_type": "code",
   "execution_count": 6,
   "id": "32179310",
   "metadata": {},
   "outputs": [
    {
     "name": "stdout",
     "output_type": "stream",
     "text": [
      "5 -1 0 1000000000000\n"
     ]
    }
   ],
   "source": [
    "x = 5\n",
    "y = -1\n",
    "z = 0\n",
    "money = 1_000_000_000_000\n",
    "\n",
    "print(x, y, z, money)"
   ]
  },
  {
   "cell_type": "code",
   "execution_count": 7,
   "id": "6b143a2c",
   "metadata": {},
   "outputs": [
    {
     "name": "stdout",
     "output_type": "stream",
     "text": [
      "<class 'int'>\n"
     ]
    }
   ],
   "source": [
    "print(type(money))"
   ]
  },
  {
   "cell_type": "code",
   "execution_count": 13,
   "id": "0f3ae01f",
   "metadata": {},
   "outputs": [
    {
     "name": "stdout",
     "output_type": "stream",
     "text": [
      "3 11\n"
     ]
    }
   ],
   "source": [
    "posts = 100\n",
    "posts_per_page = 30\n",
    "\n",
    "page = posts // posts_per_page\n",
    "remainder = posts % posts_per_page + 1\n",
    "print(page, remainder)"
   ]
  },
  {
   "cell_type": "code",
   "execution_count": 15,
   "id": "44888eb8",
   "metadata": {},
   "outputs": [
    {
     "name": "stdout",
     "output_type": "stream",
     "text": [
      "\"철수가 말했습니다\"\n"
     ]
    }
   ],
   "source": [
    "# \"철수가 말했습니다\"\n",
    "message = \"\\\"철수가 말했습니다\\\"\"\n",
    "print(message)"
   ]
  },
  {
   "cell_type": "code",
   "execution_count": 19,
   "id": "147dea63",
   "metadata": {},
   "outputs": [
    {
     "name": "stdout",
     "output_type": "stream",
     "text": [
      "[3, 4, 5, 5, 6]\n",
      "홍길동 \n"
     ]
    }
   ],
   "source": [
    "name1 = [3, 4, 5, 5, 6]\n",
    "name2 = \"홍길동 \"\n",
    "\n",
    "print(name1)\n",
    "print(name2)"
   ]
  },
  {
   "cell_type": "code",
   "execution_count": 20,
   "id": "b77b314c",
   "metadata": {},
   "outputs": [
    {
     "name": "stdout",
     "output_type": "stream",
     "text": [
      "5\n"
     ]
    }
   ],
   "source": [
    "print(len(name1))"
   ]
  },
  {
   "cell_type": "code",
   "execution_count": 22,
   "id": "2894c58e",
   "metadata": {},
   "outputs": [
    {
     "name": "stdout",
     "output_type": "stream",
     "text": [
      "901212-1\n",
      "******\n",
      "901212-1******\n"
     ]
    }
   ],
   "source": [
    "regist_num = \"901212-1325221\"\n",
    "\n",
    "# 1. 성별까지 문자열을 추출한다.\n",
    "# 2. 뒤의 6자리를 *로 표현한다. \n",
    "# 1과 2를 합친다.\n",
    "\n",
    "left = regist_num[:8]\n",
    "print(left)\n",
    "right = \"*\" * 6\n",
    "print(right)\n",
    "\n",
    "result = left + right\n",
    "print(result)"
   ]
  },
  {
   "cell_type": "code",
   "execution_count": 4,
   "id": "df95d6f9",
   "metadata": {},
   "outputs": [
    {
     "name": "stdout",
     "output_type": "stream",
     "text": [
      "    홍길동    \n",
      "|홍길동|\n",
      "|홍길동    |\n",
      "|    홍길동|\n"
     ]
    }
   ],
   "source": [
    "name = \"    홍길동    \" \n",
    "\n",
    "print(name)\n",
    "print(f\"|{name.strip()}|\")\n",
    "print(f\"|{name.lstrip()}|\")\n",
    "print(f\"|{name.rstrip()}|\")"
   ]
  },
  {
   "cell_type": "code",
   "execution_count": 5,
   "id": "a1871c7a",
   "metadata": {},
   "outputs": [
    {
     "name": "stdout",
     "output_type": "stream",
     "text": [
      "3\n",
      "4\n"
     ]
    }
   ],
   "source": [
    "gender1 = \"mmffMFmf\"\n",
    "gender2 = gender1.lower()\n",
    "\n",
    "print(gender1.count(\"m\"))\n",
    "print(gender2.count(\"m\"))"
   ]
  },
  {
   "cell_type": "code",
   "execution_count": 11,
   "id": "7f11367a",
   "metadata": {},
   "outputs": [
    {
     "name": "stdout",
     "output_type": "stream",
     "text": [
      "안녕하세ㅐ요 존ㄴ눈ㅇㄴ아ㅓㄴ아ㅓ죰ㄴ이만엌ㅌ차ㅓㅑㅂ야마ㅣㄴ어ㅣ마너이ㅏㅁ넝ㅁㄴ\" \"미나어미ㅏ너이ㅏㅁ너이ㅏ먼이ㅏㅓㅁㄴ이ㅏㅓㅁ니ㅏ어ㅣㅁ나ㅓ이마너이ㅏㅓㅁㄴㅇ\n",
      "ㅁ너이ㅏㅁ너이ㅏㅁ너이ㅏㅁ너이ㅏ먼이ㅏㅓㅁㄴ이ㅏㅓ\n",
      "\n"
     ]
    }
   ],
   "source": [
    "review = \"\"\"안녕하세ㅐ요 존ㄴ눈ㅇㄴ아ㅓㄴ아ㅓ죰ㄴ이만엌ㅌ차ㅓㅑㅂ야마ㅣㄴ어ㅣ마너이ㅏㅁ넝ㅁㄴ\" \\\n",
    "\"미나어미ㅏ너이ㅏㅁ너이ㅏ먼이ㅏㅓㅁㄴ이ㅏㅓㅁ니ㅏ어ㅣㅁ나ㅓ이마너이ㅏㅓㅁㄴㅇ\n",
    "ㅁ너이ㅏㅁ너이ㅏㅁ너이ㅏㅁ너이ㅏ먼이ㅏㅓㅁㄴ이ㅏㅓ\n",
    "\"\"\"\n",
    "print(review)"
   ]
  },
  {
   "cell_type": "code",
   "execution_count": 12,
   "id": "db45aba7",
   "metadata": {},
   "outputs": [
    {
     "name": "stdout",
     "output_type": "stream",
     "text": [
      "2\n"
     ]
    }
   ],
   "source": [
    "print(review.count(\"ㅇ\"))"
   ]
  },
  {
   "cell_type": "code",
   "execution_count": 16,
   "id": "e2777086",
   "metadata": {},
   "outputs": [
    {
     "name": "stdout",
     "output_type": "stream",
     "text": [
      "['pasta', 'coke']\n"
     ]
    }
   ],
   "source": [
    "orders = [\"pasta\", \"pizza\", \"coke\", \"bread\"]\n",
    "# 거꾸로\n",
    "print(orders[::2])"
   ]
  },
  {
   "cell_type": "code",
   "execution_count": 22,
   "id": "292cf778",
   "metadata": {},
   "outputs": [
    {
     "name": "stdout",
     "output_type": "stream",
     "text": [
      "[0, 1, 2, 3, 4, 5, 6, 7]\n",
      "1\n",
      "[0, '일', 2, 3, 4, 5, 6, 7]\n",
      "5\n",
      "[0, '일', 2, 3, 4, '오', 6, 7]\n",
      "[2, 3]\n",
      "[0, '일', 'two', 'three', 4, '오', 6, 7]\n",
      "['three', 4, '오', 6, 7]\n",
      "[0, '일', 'two', '하', '하', '하']\n",
      "[0, '일', 'two', '하']\n"
     ]
    },
    {
     "ename": "TypeError",
     "evalue": "can only assign an iterable",
     "output_type": "error",
     "traceback": [
      "\u001b[1;31m---------------------------------------------------------------------------\u001b[0m",
      "\u001b[1;31mTypeError\u001b[0m                                 Traceback (most recent call last)",
      "Cell \u001b[1;32mIn[22], line 23\u001b[0m\n\u001b[0;32m     21\u001b[0m \u001b[38;5;66;03m# 처음부터 3번째까지의 데이터를 10으로 바꾸기 \u001b[39;00m\n\u001b[0;32m     22\u001b[0m \u001b[38;5;28mprint\u001b[39m(num_list[:\u001b[38;5;241m4\u001b[39m])\n\u001b[1;32m---> 23\u001b[0m \u001b[43mnum_list\u001b[49m\u001b[43m[\u001b[49m\u001b[43m:\u001b[49m\u001b[38;5;241;43m4\u001b[39;49m\u001b[43m]\u001b[49m \u001b[38;5;241m=\u001b[39m \u001b[38;5;241m10\u001b[39m\n\u001b[0;32m     24\u001b[0m \u001b[38;5;28mprint\u001b[39m(num_list)\n",
      "\u001b[1;31mTypeError\u001b[0m: can only assign an iterable"
     ]
    }
   ],
   "source": [
    "num_list = list(range(8))\n",
    "print(num_list)\n",
    "\n",
    "print(num_list[1])\n",
    "num_list[1] = \"일\"\n",
    "print(num_list)\n",
    "\n",
    "print(num_list[5])\n",
    "num_list[5] = \"오\"\n",
    "print(num_list)\n",
    "\n",
    "print(num_list[2:4])\n",
    "num_list[2:4] = [\"two\", \"three\"]\n",
    "print(num_list)\n",
    "\n",
    "# 3번째에서 끝까지의 데이터를 \"하하하\"로 바꾸기\n",
    "print(num_list[3:])\n",
    "num_list[3:] = \"하하하\"\n",
    "print(num_list)\n",
    "\n",
    "# 처음부터 3번째까지의 데이터를 10으로 바꾸기 \n",
    "print(num_list[:4])\n",
    "num_list[:4] = 10\n",
    "print(num_list)\n",
    "\n"
   ]
  },
  {
   "cell_type": "code",
   "execution_count": 35,
   "id": "e41b40d2",
   "metadata": {},
   "outputs": [
    {
     "name": "stdout",
     "output_type": "stream",
     "text": [
      "[0, 1, 2, 3, 4]\n",
      "[0, 1, 2, 3, 4, 5]\n",
      "[0, 1, 2, 3, 4, 5, 1, 2, 3]\n",
      "[0, 1, 2, 3, 4, 5, 1, 2, 3, [1, 2, 3, 4, 5]]\n",
      "[0, 1, 2, 3, 4, 5, 1, 2, 3, [1, 2, 3, 4, 5], 1, 2, 3, 4]\n"
     ]
    }
   ],
   "source": [
    "data = list(range(5))\n",
    "print(data)\n",
    "\n",
    "data = data + [5]\n",
    "print(data)\n",
    "\n",
    "data = data + [1, 2, 3]\n",
    "print(data)\n",
    "\n",
    "data.append([1, 2, 3, 4, 5])\n",
    "print(data)\n",
    "\n",
    "data.extend([1,2,3,4])\n",
    "print(data)"
   ]
  },
  {
   "cell_type": "code",
   "execution_count": 38,
   "id": "2a9af85d",
   "metadata": {},
   "outputs": [
    {
     "name": "stdout",
     "output_type": "stream",
     "text": [
      "[10, 20, 30]\n",
      "[10, 20, 30, 40]\n"
     ]
    }
   ],
   "source": [
    "num_list = [10, 20, 30]\n",
    "print(num_list)\n",
    "\n",
    "num_list.insert(3, 40)\n",
    "print(num_list)"
   ]
  },
  {
   "cell_type": "code",
   "execution_count": 55,
   "id": "d3649937",
   "metadata": {},
   "outputs": [
    {
     "name": "stdout",
     "output_type": "stream",
     "text": [
      "[0, 10, 20, 30, 40, 50, 60, 70, 80, 90]\n",
      "[0, 10, 20, 40, 50, 60, 70, 80, 90]\n",
      "[0, 10, 20, 40, 50, 60, 80, 90]\n",
      "[60, 80, 90]\n",
      "[0, 10, 20, 40, 50]\n",
      "50\n",
      "[0, 10, 20, 40]\n"
     ]
    }
   ],
   "source": [
    "num_list = list(range(0, 100, 10))\n",
    "print(num_list)\n",
    "\n",
    "\n",
    "# 3번째 데이터를 삭제해주세요(del 이용)\n",
    "del num_list[3]\n",
    "print(num_list)\n",
    "\n",
    "# 7번째 데이터를 삭제해주세요(remove 이용)\n",
    "num_list.remove(70)\n",
    "print(num_list)\n",
    "\n",
    "# 뒤에서 3번째부터 끝까지 데이터를 삭제해주세요\n",
    "print(num_list[-3:])\n",
    "num_list[-3:] = []\n",
    "print(num_list)\n",
    "\n",
    "# 맨 뒤에 있는 데이터를 삭제하고 그 값을 출력해주세요(pop 이용)\n",
    "print(num_list.pop())\n",
    "print(num_list)"
   ]
  },
  {
   "cell_type": "code",
   "execution_count": 69,
   "id": "0652366e",
   "metadata": {},
   "outputs": [
    {
     "name": "stdout",
     "output_type": "stream",
     "text": [
      "ID003\n",
      "['ID001', 'ID002', 'ID004', 'ID005']\n",
      "['ID003']\n"
     ]
    }
   ],
   "source": [
    "import pandas as pd\n",
    "# \"ID003\" 데이터에 오류가 생겼다. \n",
    "# 오류가 생긴 데이터는 삭제하고 error_data에 담아주세요'\n",
    "\n",
    "post_data = [\"ID001\", \"ID002\", \"ID003\", \"ID004\", \"ID005\"]\n",
    "\n",
    "pop_data = post_data.pop(2)\n",
    "print(pop_data)\n",
    "print(post_data)\n",
    "\n",
    "error_data = []\n",
    "error_data.append(pop_data)\n",
    "print(error_data)\n"
   ]
  },
  {
   "cell_type": "code",
   "execution_count": 71,
   "id": "171a400f",
   "metadata": {},
   "outputs": [
    {
     "name": "stdout",
     "output_type": "stream",
     "text": [
      "()\n",
      "<class 'tuple'>\n"
     ]
    }
   ],
   "source": [
    "data = ()\n",
    "print(data)\n",
    "print(type(data))"
   ]
  },
  {
   "cell_type": "code",
   "execution_count": 1,
   "id": "e79a1618",
   "metadata": {},
   "outputs": [
    {
     "name": "stdout",
     "output_type": "stream",
     "text": [
      "{'이름': ['홍길동', '최수연', '김철수'], '성적': [68, 44, 90]}\n"
     ]
    }
   ],
   "source": [
    "score_data1 = {\n",
    "    \"이름\": [\"홍길동\", \"최수연\", \"김철수\"],\n",
    "    \"성적\": [68, 44, 90]\n",
    "}\n",
    "score_data2 = {\n",
    "    \"홍길동\": 68, \"최수연\": 44, \"김철수\": 90\n",
    "}\n",
    "print(score_data1)"
   ]
  },
  {
   "cell_type": "markdown",
   "id": "a3299a6f",
   "metadata": {},
   "source": [
    "예제. 날씨 데이터\n",
    "* 'city'키 'Busan'으로 수정하기\n",
    "* 미세먼지(`pm10`)키 추가하기 (값: 34)\n",
    "* 'forecast' 키에 ['Rainy', 'Rainy'] 추가하기\n",
    "\n",
    "```\n",
    "weather_data = {\n",
    "    'city': 'Seoul',\n",
    "    'temperature': 22.5,  # 섭씨\n",
    "    'humidity': 60,       # 상대 습도(%)\n",
    "    'forecast': ['Sunny', 'Cloudy', 'Rainy']  # 3일 예보\n",
    "}\n",
    "```"
   ]
  },
  {
   "cell_type": "code",
   "execution_count": 3,
   "id": "bbfce1ec",
   "metadata": {},
   "outputs": [
    {
     "name": "stdout",
     "output_type": "stream",
     "text": [
      "{'city': 'Seoul', 'temperature': 22.5, 'humidity': 60, 'forecast': ['Sunny', 'Cloudy', 'Rainy']}\n"
     ]
    }
   ],
   "source": [
    "weather_data = {\n",
    "    'city': 'Seoul',\n",
    "    'temperature': 22.5,  # 섭씨\n",
    "    'humidity': 60,       # 상대 습도(%)\n",
    "    'forecast': ['Sunny', 'Cloudy', 'Rainy']  # 3일 예보\n",
    "}\n",
    "print(weather_data)"
   ]
  },
  {
   "cell_type": "code",
   "execution_count": 6,
   "id": "2e22be20",
   "metadata": {},
   "outputs": [
    {
     "name": "stdout",
     "output_type": "stream",
     "text": [
      "{'city': 'Seoul', 'temperature': 22.5, 'humidity': 60, 'forecast': ['Sunny', 'Cloudy', 'Rainy'], 'Seoul': 'Busan'}\n"
     ]
    }
   ],
   "source": [
    "weather_data[\"Seoul\"] = \"Busan\"\n",
    "print(weather_data)"
   ]
  },
  {
   "cell_type": "code",
   "execution_count": 7,
   "id": "9d077a19",
   "metadata": {},
   "outputs": [
    {
     "name": "stdout",
     "output_type": "stream",
     "text": [
      "{'city': 'Seoul', 'temperature': 22.5, 'humidity': 60, 'forecast': ['Sunny', 'Cloudy', 'Rainy'], 'Seoul': 'Busan', 'pm10': 34}\n"
     ]
    }
   ],
   "source": [
    "weather_data[\"pm10\"] = 34\n",
    "print(weather_data)"
   ]
  },
  {
   "cell_type": "code",
   "execution_count": 11,
   "id": "c9347005",
   "metadata": {},
   "outputs": [
    {
     "name": "stdout",
     "output_type": "stream",
     "text": [
      "['Sunny', 'Cloudy', 'Rainy', ['Rainy', 'Rainy'], ['Rainy', 'Rainy'], ['Rainy', 'Rainy'], 'Rainy', 'Rainy', ['Rainy', 'Rainy']]\n",
      "{'city': 'Seoul', 'temperature': 22.5, 'humidity': 60, 'forecast': ['Sunny', 'Cloudy', 'Rainy', ['Rainy', 'Rainy'], ['Rainy', 'Rainy'], ['Rainy', 'Rainy'], 'Rainy', 'Rainy', ['Rainy', 'Rainy'], 'Rainy', 'Rainy'], 'Seoul': 'Busan', 'pm10': 34}\n"
     ]
    }
   ],
   "source": [
    "weather_data[\"forecast\"].append([\"Rainy\", \"Rainy\"])\n",
    "print(weather_data[\"forecast\"])\n",
    "\n",
    "weather_data[\"forecast\"].extend([\"Rainy\", \"Rainy\"])\n",
    "print(weather_data)"
   ]
  },
  {
   "cell_type": "code",
   "execution_count": 14,
   "id": "9a3c2163",
   "metadata": {},
   "outputs": [],
   "source": [
    "student = {\"name\": \"홍길동\", \"age\": 28, \"height\": 187.3, \"score\": 88}"
   ]
  },
  {
   "cell_type": "code",
   "execution_count": 22,
   "id": "9a988c7d",
   "metadata": {},
   "outputs": [
    {
     "name": "stdout",
     "output_type": "stream",
     "text": [
      "['name', 'age', 'height', 'score']\n",
      "<class 'dict_keys'>\n",
      "['홍길동', 28, 187.3, 88]\n",
      "<class 'dict_values'>\n",
      "[('name', '홍길동'), ('age', 28), ('height', 187.3), ('score', 88)]\n",
      "<class 'dict_items'>\n"
     ]
    }
   ],
   "source": [
    "print(list(student.keys()))\n",
    "print(type(student.keys()))\n",
    "\n",
    "print(list(student.values()))\n",
    "print(type(student.values()))\n",
    "\n",
    "print(list(student.items()))\n",
    "print(type(student.items()))"
   ]
  },
  {
   "cell_type": "code",
   "execution_count": 26,
   "id": "9dd47d6a",
   "metadata": {},
   "outputs": [
    {
     "name": "stdout",
     "output_type": "stream",
     "text": [
      "홍길동\n",
      "없음\n"
     ]
    }
   ],
   "source": [
    "student = {\"name\": \"홍길동\", \"age\": 28, \"height\": 187.3, \"score\": 88}\n",
    "\n",
    "# name키에 대한 값을 추출해주세요\n",
    "print(student[\"name\"])\n",
    "print(student.get(\"weight\", \"없음\"))"
   ]
  },
  {
   "cell_type": "code",
   "execution_count": null,
   "id": "e721b23f",
   "metadata": {},
   "outputs": [
    {
     "data": {
      "text/plain": [
       "{1, 3, 4, 5}"
      ]
     },
     "execution_count": 27,
     "metadata": {},
     "output_type": "execute_result"
    }
   ],
   "source": [
    "# 중복 제거\n",
    "set_list = [1, 1, 4, 5, 5, 5, 5, 5, 5, 3]\n",
    "set(set_list)"
   ]
  },
  {
   "cell_type": "code",
   "execution_count": 28,
   "id": "fb58d914",
   "metadata": {},
   "outputs": [
    {
     "name": "stdout",
     "output_type": "stream",
     "text": [
      "{'user2@example.com', 'user1@example.com', 'user3@example.com'}\n"
     ]
    }
   ],
   "source": [
    "emails = ['user1@example.com','user2@example.com','user1@example.com','user3@example.com','user2@example.com']\n",
    "print(set(emails))"
   ]
  },
  {
   "cell_type": "code",
   "execution_count": 30,
   "id": "8e2fb29d",
   "metadata": {},
   "outputs": [
    {
     "name": "stdout",
     "output_type": "stream",
     "text": [
      "술쳐먹어!\n"
     ]
    }
   ],
   "source": [
    "age = 30\n",
    "if age < 20:\n",
    "    print(\"술마시지마\")\n",
    "else:\n",
    "    print(\"술쳐먹어!\")"
   ]
  },
  {
   "cell_type": "code",
   "execution_count": 31,
   "id": "1663b3d0",
   "metadata": {},
   "outputs": [
    {
     "name": "stdout",
     "output_type": "stream",
     "text": [
      "뒤지고싶어요?\n"
     ]
    }
   ],
   "source": [
    "# 등급에 따라 메시지 출력하기\n",
    "# A-Perfect, B-Excellent, C-Good, 그 외 노력하세요라고 출력해주세요\n",
    "grade = \"F\"\n",
    "\n",
    "# 만약에 grade가 A이면 Perfect라고 출력하고\n",
    "# 그렇지 않다면 만약에 grade가 B이면 Excellent라고 출력하고\n",
    "# 그렇지 않다면 만약에 grade가 C이면 Good이라고 출력하고\n",
    "# 그렇지 않다면 노력하세요라고 출력해라\n",
    "\n",
    "if grade == \"A\":\n",
    "    print(\"perfect\")\n",
    "elif grade == \"B\":\n",
    "    print(\"Excellent\")\n",
    "elif grade == \"C\":\n",
    "    print(\"Good\")\n",
    "else:\n",
    "    print(\"뒤지고싶어요?\")"
   ]
  },
  {
   "cell_type": "markdown",
   "id": "ec7cd43f",
   "metadata": {},
   "source": [
    "문제. 나이가 10세 이상이고, 키가 120cm 이상일 때만 놀이기구 탑승\n",
    "\n",
    "* 탑승 가능하면 \"통과\" 아니면 \"탑승 불가\"라고 출력하기"
   ]
  },
  {
   "cell_type": "code",
   "execution_count": 1,
   "id": "9acbda99",
   "metadata": {},
   "outputs": [
    {
     "name": "stdout",
     "output_type": "stream",
     "text": [
      "탑승 불가\n"
     ]
    }
   ],
   "source": [
    "age = 14\n",
    "height = 119\n",
    "\n",
    "if age >= 10 and height >= 120:\n",
    "    print(\"통과\")\n",
    "else:\n",
    "    print(\"탑승 불가\")"
   ]
  },
  {
   "cell_type": "markdown",
   "id": "a4168d9b",
   "metadata": {},
   "source": [
    "문제. 10만원 이상 구매하거나 \"Gold\" 등급이면 10% \"할인\" 출력\n",
    "\n",
    "* 할인이 가능하면 \"10% 할인 가능\" 아니면 \"10% 할인 불가\" 출력"
   ]
  },
  {
   "cell_type": "code",
   "execution_count": 2,
   "id": "a48a97a5",
   "metadata": {},
   "outputs": [
    {
     "name": "stdout",
     "output_type": "stream",
     "text": [
      "10% 할인 가능\n"
     ]
    }
   ],
   "source": [
    "price = 8000\n",
    "level = \"Gold\"\n",
    "\n",
    "if price >= 100000 or level == \"Gold\":\n",
    "    print(\"10% 할인 가능\")\n",
    "else:\n",
    "    print(\"10% 할인 불가\")\n"
   ]
  },
  {
   "cell_type": "code",
   "execution_count": 3,
   "id": "72e0502d",
   "metadata": {},
   "outputs": [
    {
     "name": "stdout",
     "output_type": "stream",
     "text": [
      "벌금 대상자\n",
      "카드납부\n"
     ]
    }
   ],
   "source": [
    "# 지갑 안에 운전면허증(license)이 있다면 통과이고 없으면 벌금이다. \n",
    "# 만약 벌금을 납부하게 되면 지갑에 카드(credit card)가 있으면 카드 결제이고 아니면 현금 납부이다. \n",
    "\n",
    "# 벌금을 납부하게 된다면 \"벌금 대상자\"을 출력하고 아니면 \"통과\"를 출력한다\n",
    "# 그리고 벌금을 납부하게 된다면 \"카드납부\" 아니면 \"현금납부\"를 출력한다.\n",
    "# 이 사람은 어떻게 해야 하는가?\n",
    "wallet = [\"credit card\", \"trash\"]\n",
    "\n",
    "if license in wallet:\n",
    "    print(\"통과\")\n",
    "else:\n",
    "    print(\"벌금 대상자\")\n",
    "    if \"credit card\" in wallet:\n",
    "        print(\"카드납부\")\n",
    "    else:\n",
    "        print(\"현금납부\")"
   ]
  },
  {
   "cell_type": "code",
   "execution_count": 6,
   "id": "1c458b29",
   "metadata": {},
   "outputs": [
    {
     "ename": "TypeError",
     "evalue": "list indices must be integers or slices, not tuple",
     "output_type": "error",
     "traceback": [
      "\u001b[1;31m---------------------------------------------------------------------------\u001b[0m",
      "\u001b[1;31mTypeError\u001b[0m                                 Traceback (most recent call last)",
      "Cell \u001b[1;32mIn[6], line 18\u001b[0m\n\u001b[0;32m     15\u001b[0m post4 \u001b[38;5;241m=\u001b[39m \u001b[38;5;124m\"\u001b[39m\u001b[38;5;124m닭가슴살\u001b[39m\u001b[38;5;124m\"\u001b[39m, \u001b[38;5;124m\"\u001b[39m\u001b[38;5;124m단백질\u001b[39m\u001b[38;5;124m\"\u001b[39m\n\u001b[0;32m     17\u001b[0m posts \u001b[38;5;241m=\u001b[39m [post1, post2, post3, post4]\n\u001b[1;32m---> 18\u001b[0m tags \u001b[38;5;241m=\u001b[39m [\u001b[43mposts\u001b[49m\u001b[43m[\u001b[49m\u001b[38;5;241;43m0\u001b[39;49m\u001b[43m,\u001b[49m\u001b[43m \u001b[49m\u001b[38;5;124;43m\"\u001b[39;49m\u001b[38;5;124;43mtags\u001b[39;49m\u001b[38;5;124;43m\"\u001b[39;49m\u001b[43m]\u001b[49m]\n\u001b[0;32m     19\u001b[0m \u001b[38;5;28;01mfor\u001b[39;00m post \u001b[38;5;129;01min\u001b[39;00m posts:\n\u001b[0;32m     20\u001b[0m     tags\u001b[38;5;241m.\u001b[39mappend(post)\n",
      "\u001b[1;31mTypeError\u001b[0m: list indices must be integers or slices, not tuple"
     ]
    }
   ],
   "source": [
    "# append / extend 차이 알기\n",
    "# 인스타그램 태그 수집기 \n",
    "# post1 : #헬스, #단백질\n",
    "# post2 : #닭가슴살, #다이어트, #단백질\n",
    "# post3 : #요요, #헬스, #다이어트\n",
    "# post4 : #닭가슴살, #단백질\n",
    "\n",
    "# 문제 1. 인스타그램 포스트별로 데이터를 수집하고 싶다\n",
    "# 문제 2. 모든 해시태그들을 tags라는 변수에 담고 싶다\n",
    "# 문제 3. 해시태그 카테고리가 몇 개인지 알고 싶다\n",
    "\n",
    "post1 = \"헬스\", \"단백질\"\n",
    "post2 = \"닭가슴살\", \"다이어트\", \"단백질\"\n",
    "post3 = \"요요\", \"헬스\", \"다이어트\"\n",
    "post4 = \"닭가슴살\", \"단백질\"\n",
    "\n",
    "posts = [post1, post2, post3, post4]\n",
    "tags = [posts[0, \"tags\"]]\n",
    "for post in posts:\n",
    "    tags.append(post)"
   ]
  },
  {
   "cell_type": "markdown",
   "id": "a28f206b",
   "metadata": {},
   "source": [
    "문제 1. 온도가 15도에서 25도 사이인지 확인하는 예시:"
   ]
  },
  {
   "cell_type": "code",
   "execution_count": 8,
   "id": "5b1bd7cc",
   "metadata": {},
   "outputs": [
    {
     "name": "stdout",
     "output_type": "stream",
     "text": [
      "온도가 15도에서 25도 사이가 아닙니다.\n"
     ]
    }
   ],
   "source": [
    "temperature = 50\n",
    "\n",
    "# 15 < temperature < 25\n",
    "# temperature > 15 그리고 temperature < 25 (and)\n",
    "\n",
    "if temperature > 15 and temperature < 25:\n",
    "    print(\"온도가 15도에서 25도 사이 입니다.\")\n",
    "else:\n",
    "    print(\"온도가 15도에서 25도 사이가 아닙니다.\")"
   ]
  },
  {
   "cell_type": "markdown",
   "id": "e0022413",
   "metadata": {},
   "source": [
    "문제 2. 학생의 성적에 따른 장학금 여부 결정\n",
    "\n",
    "* GPA가 4.0 이상이면 100% 장학금을 받습니다.\n",
    "* GPA가 3.5 이상이면 50% 장학금을 받습니다.\n",
    "* GPA가 3.0 이상이면 30% 장학금을 받습니다.\n",
    "* 그 외에는 장학금을 받을 수 없습니다."
   ]
  },
  {
   "cell_type": "code",
   "execution_count": 9,
   "id": "80f8e9cb",
   "metadata": {},
   "outputs": [
    {
     "name": "stdout",
     "output_type": "stream",
     "text": [
      "장학금을 받을 수 없습니다.\n"
     ]
    }
   ],
   "source": [
    "# if - elif - else\n",
    "gpa = 1.0\n",
    "\n",
    "if gpa >= 4.0:\n",
    "    print(\"100% 장학금\")\n",
    "elif gpa >= 3.5:\n",
    "    print(\"50% 장학금\")\n",
    "elif gpa >= 3.0:\n",
    "    print(\"30% 장학금\")\n",
    "else:\n",
    "    print(\"장학금을 받을 수 없습니다.\")"
   ]
  },
  {
   "cell_type": "markdown",
   "id": "878e94e8",
   "metadata": {},
   "source": [
    "문제 3. 특정 단어가 문장에서 없는지 확인\n",
    "\n",
    "* search_word가 text에 포함되지 않으면 해당 단어가 문장에 없다는 메시지를 출력합니다."
   ]
  },
  {
   "cell_type": "code",
   "execution_count": 13,
   "id": "6a1300c9",
   "metadata": {},
   "outputs": [
    {
     "name": "stdout",
     "output_type": "stream",
     "text": [
      "문장에 포함 되어 있지 않습니다.\n",
      "포함 안됨\n"
     ]
    }
   ],
   "source": [
    "text = \"데이터 분석은 흥미롭고 중요한 분야입니다.\"\n",
    "search_word = \"AI\"\n",
    "\n",
    "# 조건식 search_word in text\n",
    "\n",
    "if search_word in text:\n",
    "    print(\"문장에 포함 되어 있습니다.\")\n",
    "else:\n",
    "    print(\"문장에 포함 되어 있지 않습니다.\")\n",
    "\n",
    "if search_word not in text:\n",
    "    print(\"포함 안됨\")\n",
    "else:\n",
    "    print(\"포함\")\n"
   ]
  },
  {
   "cell_type": "code",
   "execution_count": null,
   "id": "03638509",
   "metadata": {},
   "outputs": [],
   "source": [
    "count = 0\n",
    "while count < 3:\n",
    "    print(count)\n",
    "    count += 1\n",
    "\n",
    "count = 0 -> 조건식 count < 3 True -> print(0) "
   ]
  },
  {
   "cell_type": "code",
   "execution_count": 14,
   "id": "43769216",
   "metadata": {},
   "outputs": [
    {
     "name": "stdout",
     "output_type": "stream",
     "text": [
      "1\n",
      "2\n",
      "3\n"
     ]
    }
   ],
   "source": [
    "num_list = [1, 2, 3]\n",
    "for num in num_list:\n",
    "    print(num)"
   ]
  },
  {
   "cell_type": "code",
   "execution_count": 20,
   "id": "8ef1c7e9",
   "metadata": {},
   "outputs": [
    {
     "name": "stdout",
     "output_type": "stream",
     "text": [
      "[1, 2, 3, 4, 5]\n",
      "1\n",
      "2\n",
      "3\n",
      "4\n",
      "5\n"
     ]
    }
   ],
   "source": [
    "# range(n): 0부터 n-1까지 1씩 증가하는 연속적인 범위를 생성해줌\n",
    "# range()를 이용해서 다음 출력이 나오도록 코딩해주세요\n",
    "# 출력 결과\n",
    "# 1\n",
    "# 2\n",
    "# 3\n",
    "# 4\n",
    "# 5 \n",
    "\n",
    "# 1. range를 이용해서 [1, 2, 3, 4, 5]를 만들어보기\n",
    "# 2. 반복문 만들기\n",
    "\n",
    "\n",
    "num_list = list(range(1, 6))\n",
    "print(num_list)\n",
    "\n",
    "for num in num_list:\n",
    "    print(num)"
   ]
  },
  {
   "cell_type": "code",
   "execution_count": 24,
   "id": "5bd166d9",
   "metadata": {},
   "outputs": [
    {
     "name": "stdout",
     "output_type": "stream",
     "text": [
      "1\n",
      "2\n",
      "3\n",
      "4\n",
      "5\n"
     ]
    }
   ],
   "source": [
    "for num in range(5):\n",
    "    print(num+1)"
   ]
  },
  {
   "cell_type": "code",
   "execution_count": 28,
   "id": "18deed7e",
   "metadata": {},
   "outputs": [
    {
     "name": "stdout",
     "output_type": "stream",
     "text": [
      "차요준\n",
      "이다희\n",
      "서연재\n",
      "우경훈\n",
      "전지호\n",
      "5\n"
     ]
    }
   ],
   "source": [
    "students = [\"차요준\", \"이다희\", \"서연재\", \"우경훈\", \"전지호\"]\n",
    "\n",
    "for student in students:\n",
    "    print(student)\n",
    "\n",
    "\n",
    "count = len(students)\n",
    "\n",
    "print(count)"
   ]
  },
  {
   "cell_type": "code",
   "execution_count": 29,
   "id": "92061f02",
   "metadata": {},
   "outputs": [
    {
     "name": "stdout",
     "output_type": "stream",
     "text": [
      "0 차요준\n",
      "1 이다희\n",
      "2 서연재\n",
      "3 우경훈\n",
      "4 전지호\n"
     ]
    }
   ],
   "source": [
    "# 위치 이름\n",
    "count = len(students)\n",
    "# print(count)\n",
    "\n",
    "for i in range(count):\n",
    "    print(i, students[i])"
   ]
  },
  {
   "cell_type": "code",
   "execution_count": 31,
   "id": "cf30bdc0",
   "metadata": {},
   "outputs": [
    {
     "name": "stdout",
     "output_type": "stream",
     "text": [
      "1 차요준\n",
      "2 이다희\n",
      "3 서연재\n",
      "4 우경훈\n",
      "5 전지호\n"
     ]
    }
   ],
   "source": [
    "for i, student in enumerate(students, start=1):\n",
    "    print(i, student)"
   ]
  },
  {
   "cell_type": "code",
   "execution_count": 42,
   "id": "5d9a88ad",
   "metadata": {},
   "outputs": [
    {
     "name": "stdout",
     "output_type": "stream",
     "text": [
      "홍길동\n",
      "최수연\n",
      "김철수\n",
      "68\n",
      "44\n",
      "90\n",
      "홍길동 68점\n",
      "최수연 44점\n",
      "김철수 90점\n"
     ]
    }
   ],
   "source": [
    "# 미션\n",
    "score_data = {\"홍길동\": 68, \"최수연\": 44, \"김철수\": 90}\n",
    "\n",
    "# # 출력 결과\n",
    "# for name in score_data.keys():\n",
    "#     print(name)\n",
    "\n",
    "# for name in score_data:\n",
    "#     print(name)\n",
    "\n",
    "# # 출력 결과\n",
    "# 68\n",
    "# 44\n",
    "# 90\n",
    "# for name in score_data.values():\n",
    "#     print(name)\n",
    "\n",
    "# ## 출력 결과\n",
    "# 홍길동 68점\n",
    "# 최수연 44점\n",
    "# 김철수 90점\n",
    "\n",
    "for name in score_data.keys():\n",
    "    print(name)\n",
    "for score in score_data.values():\n",
    "    print(score)\n",
    "for name, score in score_data.items():\n",
    "    print(f\"{name} {score}점\")\n",
    "\n"
   ]
  },
  {
   "cell_type": "code",
   "execution_count": 44,
   "id": "1fc1fb78",
   "metadata": {},
   "outputs": [
    {
     "name": "stdout",
     "output_type": "stream",
     "text": [
      "홍길동 68\n",
      "최수연 44\n",
      "김철수 90\n"
     ]
    }
   ],
   "source": [
    "names = [\"홍길동\", \"최수연\", \"김철수\"]\n",
    "scores = [68, 44, 90]\n",
    "\n",
    "# ## 출력 결과\n",
    "# 홍길동 68점\n",
    "# 최수연 44점\n",
    "# 김철수 90점\n",
    "\n",
    "for name, score in zip(names, scores):\n",
    "    print(name, score)"
   ]
  },
  {
   "cell_type": "code",
   "execution_count": 45,
   "id": "1e9640f2",
   "metadata": {},
   "outputs": [
    {
     "name": "stdout",
     "output_type": "stream",
     "text": [
      "1\n",
      "2\n",
      "3\n",
      "4\n",
      "5\n",
      "6\n"
     ]
    }
   ],
   "source": [
    "# 1부터 10까지 숫자를 하나씩 출력 만약 7이 나오면 반복문 중지\n",
    "\n",
    "for i in range(1,11):\n",
    "    if i == 7:\n",
    "        break\n",
    "    print(i)"
   ]
  },
  {
   "cell_type": "code",
   "execution_count": 46,
   "id": "fb8462f1",
   "metadata": {},
   "outputs": [
    {
     "name": "stdout",
     "output_type": "stream",
     "text": [
      "1\n",
      "2\n",
      "3\n",
      "4\n",
      "5\n",
      "6\n",
      "7\n"
     ]
    }
   ],
   "source": [
    "for i in range(1, 11):\n",
    "    print(i)\n",
    "    if i == 7:\n",
    "        break"
   ]
  },
  {
   "cell_type": "code",
   "execution_count": 5,
   "id": "ab6a9253",
   "metadata": {},
   "outputs": [
    {
     "name": "stdout",
     "output_type": "stream",
     "text": [
      "1\n",
      "2\n",
      "3\n",
      "4\n",
      "지나가이 새끼야!\n",
      "6\n",
      "7\n",
      "8\n",
      "9\n",
      "10\n"
     ]
    }
   ],
   "source": [
    "# 1부터 10까지 숫자 중에서 5만 빼고 출력하기\n",
    "for i in range(1, 11):\n",
    "    if i == 5:\n",
    "        print(\"지나가이 새끼야!\")\n",
    "        continue\n",
    "    print(i)\n",
    "     \n"
   ]
  },
  {
   "cell_type": "markdown",
   "id": "a2d14c94",
   "metadata": {},
   "source": [
    "예제1. 학생 성적 딕셔너리\n",
    "\n",
    "반복문을 사용해서 \"홍길동님의 성적은 85점입니다\" 형태로 출력하세요.\n",
    "\n",
    "```\n",
    "grades = {\n",
    "    \"John\": 85,\n",
    "    \"Emily\": 92,\n",
    "    \"Tom\": 78,\n",
    "    \"Lucy\": 88\n",
    "}\n",
    "```"
   ]
  },
  {
   "cell_type": "code",
   "execution_count": 21,
   "id": "2285cae4",
   "metadata": {},
   "outputs": [
    {
     "name": "stdout",
     "output_type": "stream",
     "text": [
      "John님의 성적은 85점입니다.\n",
      "Emily님의 성적은 92점입니다.\n",
      "Tom님의 성적은 78점입니다.\n",
      "Lucy님의 성적은 88점입니다.\n"
     ]
    }
   ],
   "source": [
    "grades = {\n",
    "    \"John\": 85,\n",
    "    \"Emily\": 92,\n",
    "    \"Tom\": 78,\n",
    "    \"Lucy\": 88\n",
    "}\n",
    "\n",
    "for name, grade in grades.items():\n",
    "    print(f\"{name}님의 성적은 {grade}점입니다.\")"
   ]
  },
  {
   "cell_type": "markdown",
   "id": "a64a15fc",
   "metadata": {},
   "source": [
    "예제2. 센서 온도 데이터\n",
    "\n",
    "30도 이상인 데이터만 출력하세요\n",
    "\n",
    "```\n",
    "temperature_data = [22.5, 35.2, 28.4, 40.1, 25.3]\n",
    "```"
   ]
  },
  {
   "cell_type": "code",
   "execution_count": 25,
   "id": "bc1f8d97",
   "metadata": {},
   "outputs": [
    {
     "name": "stdout",
     "output_type": "stream",
     "text": [
      "35.2\n",
      "40.1\n"
     ]
    }
   ],
   "source": [
    "temperature_data = [22.5, 35.2, 28.4, 40.1, 25.3]\n",
    "\n",
    "for temperature in temperature_data:\n",
    "    if temperature >= 30:\n",
    "        print(temperature)"
   ]
  },
  {
   "cell_type": "markdown",
   "id": "be303222",
   "metadata": {},
   "source": [
    "예제 3. 고객 주문 데이터\n",
    "\n",
    "반복문을 사용해서 총 매출을 계산하세요.\n",
    "\n",
    "```\n",
    "orders = [\n",
    "    {\"customer\": \"Kim\", \"amount\": 120000},\n",
    "    {\"customer\": \"Lee\", \"amount\": 85000},\n",
    "    {\"customer\": \"Park\", \"amount\": 99000},\n",
    "]\n",
    "```"
   ]
  },
  {
   "cell_type": "code",
   "execution_count": 11,
   "id": "e9315da0",
   "metadata": {},
   "outputs": [
    {
     "name": "stdout",
     "output_type": "stream",
     "text": [
      "304000\n"
     ]
    }
   ],
   "source": [
    "orders = [\n",
    "    {\"customer\": \"Kim\", \"amount\": 120000},\n",
    "    {\"customer\": \"Lee\", \"amount\": 85000},\n",
    "    {\"customer\": \"Park\", \"amount\": 99000},\n",
    "]\n",
    "price = 0\n",
    "\n",
    "for order in orders:\n",
    "    price += order[\"amount\"]\n",
    "print(price)\n"
   ]
  },
  {
   "cell_type": "code",
   "execution_count": 5,
   "id": "230bdd0d",
   "metadata": {},
   "outputs": [
    {
     "name": "stdout",
     "output_type": "stream",
     "text": [
      "[2]\n",
      "[2, 4]\n",
      "[2, 4, 6]\n",
      "[2, 4, 6, 8]\n",
      "[2, 4, 6, 8, 10]\n",
      "[2, 4, 6, 8, 10]\n"
     ]
    }
   ],
   "source": [
    "nums = []\n",
    "for num in range(1, 11):\n",
    "    if num % 2 == 0:\n",
    "        nums.append(num)\n",
    "        print(nums)\n",
    "\n",
    "nums = [num for num in range(1, 11) if num % 2 ==0]\n",
    "print(nums)"
   ]
  },
  {
   "cell_type": "code",
   "execution_count": 10,
   "id": "f0762bab",
   "metadata": {},
   "outputs": [
    {
     "name": "stdout",
     "output_type": "stream",
     "text": [
      "['홀수']\n",
      "['홀수', 2]\n",
      "['홀수', 2, '홀수']\n",
      "['홀수', 2, '홀수', 4]\n",
      "['홀수', 2, '홀수', 4, '홀수']\n",
      "['홀수', 2, '홀수', 4, '홀수', 6]\n",
      "['홀수', 2, '홀수', 4, '홀수', 6, '홀수']\n",
      "['홀수', 2, '홀수', 4, '홀수', 6, '홀수', 8]\n",
      "['홀수', 2, '홀수', 4, '홀수', 6, '홀수', 8, '홀수']\n",
      "['홀수', 2, '홀수', 4, '홀수', 6, '홀수', 8, '홀수', 10]\n",
      "[0, '홀수', 2, '홀수', 4, '홀수', 6, '홀수', 8, '홀수', 10]\n"
     ]
    }
   ],
   "source": [
    "nums = []\n",
    "\n",
    "for num in range(1, 11):\n",
    "    if num % 2 == 0:\n",
    "        nums.append(num)\n",
    "    else:\n",
    "        nums.append(\"홀수\")\n",
    "    print(nums)\n",
    "\n",
    "nums = [num if num % 2 == 0 else \"홀수\" for num in range(11)]\n",
    "print(nums)"
   ]
  },
  {
   "cell_type": "code",
   "execution_count": null,
   "id": "1469f000",
   "metadata": {},
   "outputs": [
    {
     "ename": "IndentationError",
     "evalue": "expected an indented block after function definition on line 1 (2782959161.py, line 2)",
     "output_type": "error",
     "traceback": [
      "\u001b[1;36m  Cell \u001b[1;32mIn[1], line 2\u001b[1;36m\u001b[0m\n\u001b[1;33m    length = len(args)\u001b[0m\n\u001b[1;37m    ^\u001b[0m\n\u001b[1;31mIndentationError\u001b[0m\u001b[1;31m:\u001b[0m expected an indented block after function definition on line 1\n"
     ]
    }
   ],
   "source": []
  },
  {
   "cell_type": "code",
   "execution_count": 6,
   "id": "9e366f56",
   "metadata": {},
   "outputs": [
    {
     "data": {
      "text/plain": [
       "'hello'"
      ]
     },
     "execution_count": 6,
     "metadata": {},
     "output_type": "execute_result"
    }
   ],
   "source": [
    "def hello():\n",
    "    return \"hello\"\n",
    "hello()"
   ]
  },
  {
   "cell_type": "code",
   "execution_count": 7,
   "id": "4136b5fc",
   "metadata": {},
   "outputs": [
    {
     "name": "stdout",
     "output_type": "stream",
     "text": [
      "hello\n"
     ]
    }
   ],
   "source": [
    "message = hello()\n",
    "print(message)"
   ]
  },
  {
   "cell_type": "code",
   "execution_count": 2,
   "id": "8b1ad53b",
   "metadata": {},
   "outputs": [],
   "source": [
    "def calc_add(x:float, y:float):\n",
    "    return x * y"
   ]
  },
  {
   "cell_type": "code",
   "execution_count": 4,
   "id": "720a2134",
   "metadata": {},
   "outputs": [
    {
     "name": "stdout",
     "output_type": "stream",
     "text": [
      "10.56\n"
     ]
    }
   ],
   "source": [
    "result = calc_add(2.4, 4.4)\n",
    "print(result)\n"
   ]
  },
  {
   "cell_type": "code",
   "execution_count": 8,
   "id": "546f0c74",
   "metadata": {},
   "outputs": [
    {
     "name": "stdout",
     "output_type": "stream",
     "text": [
      "29님의 나이는 차요준세입니다.\n"
     ]
    }
   ],
   "source": [
    "def prt_info(name, age):\n",
    "    print(f\"{name}님의 나이는 {age}세입니다.\")\n",
    "\n",
    "prt_info(29, \"차요준\")"
   ]
  },
  {
   "cell_type": "code",
   "execution_count": null,
   "id": "8828b501",
   "metadata": {},
   "outputs": [],
   "source": [
    "def prt_info(name, age, gender=\"남성\"):\n",
    "    prt_info(f\"{name}님의 나으\")"
   ]
  },
  {
   "cell_type": "markdown",
   "id": "5813bf97",
   "metadata": {},
   "source": [
    "검정\n",
    "귀무가설(H0)\n",
    "대립가설(H1)\n",
    "statistics, p-value\n",
    "p-value < 0.05(=유의수준)\n",
    "-----> 유의수준 5%하에서 귀무가설을 기각합니다.\n",
    "\n",
    "1. 정규성 검정\n",
    "H0: 정규분포를 따른다\n",
    "H1: 정규분포를 따르지 않는다. \n",
    "shapiro(소규모 데이터에 유리)\n",
    "2. 평균 검정\n",
    "1) 독립표본 T-test \n",
    "# Step1. 등분산 검정\n",
    "H0: 집단 A, B의 분산이 같다\n",
    "H1: 집단 A, B의 분산이 같지 않다. \n",
    "levene(A, B)\n",
    "# Step2. 독립표본 T-test\n",
    "H0: 집단 A, B의 평균은 같다\n",
    "H1: 집단 A, B의 평균은 같지 않다. \n",
    "ttest_ind(A, B, equal_var=?)\n",
    "2) 대응표본 T-test\n",
    "H0: 전과 후의 차이가 없다.(전-후 = 0)\n",
    "H1: 전과 후의 차이가 있다.(전-후 != 0)\n",
    "diff = 전 - 후\n",
    "ttest_rel(diff)\n",
    "3) ANOVA\n",
    "# Step1. 등분산 검정\n",
    "H0: 집단 A, B, C의 분산이 같다\n",
    "H1: 집단 A, B, C의 분산이 같지 않다. \n",
    "levene(A, B, C)\n",
    "# Step2. ANOVA 분석\n",
    "H0: 집단 A, B, C의 평균이 같다.\n",
    "H1: 집단 A, B, C의 평균이 같지 않다.\n",
    "f_oneway(A, B, C)\n",
    "3. 독립성 검정\n",
    "범주형 데이터 두 집단이 독립인가 아닌가 판단\n",
    "H0: 두 집단이 서로 독립이다.\n",
    "H1: 두 집단이 서로 독립이 아니다. \n",
    "교차표(cross_data) = pd.crosstab()\n",
    "chi2_contingency(cross_data)\n",
    "expected_data"
   ]
  },
  {
   "cell_type": "code",
   "execution_count": null,
   "id": "2f52d418",
   "metadata": {},
   "outputs": [],
   "source": [
    "import json\n",
    "\n"
   ]
  }
 ],
 "metadata": {
  "kernelspec": {
   "display_name": "POTENUP",
   "language": "python",
   "name": "python3"
  },
  "language_info": {
   "codemirror_mode": {
    "name": "ipython",
    "version": 3
   },
   "file_extension": ".py",
   "mimetype": "text/x-python",
   "name": "python",
   "nbconvert_exporter": "python",
   "pygments_lexer": "ipython3",
   "version": "3.10.18"
  }
 },
 "nbformat": 4,
 "nbformat_minor": 5
}
