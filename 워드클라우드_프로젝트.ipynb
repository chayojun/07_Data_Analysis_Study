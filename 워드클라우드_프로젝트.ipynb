{
 "cells": [
  {
   "cell_type": "code",
   "execution_count": null,
   "id": "5b239c3c",
   "metadata": {},
   "outputs": [
    {
     "name": "stdout",
     "output_type": "stream",
     "text": [
      "['정말', '지역화폐', '이용', '최고', '건의', '드릴', '자치구', '별로', '이용', '상품권', '다른', '이용', '자치구', '경계', '사람', '여러', '상품권', '실정', '상품권', '구매', '자치구', '가게', '설정', '지도', '가게', '자치구', '어디', '인지', '주소', '동인', '실제', '동이', '자동차', '전용', '도로', '대교', '식당', '자꾸', '배달', '대부분', '오토바이', '라이더', '동인', '아예', '지역', '주소', '식당', '아예', '차량', '배달', '라이더', '요청', '거나', '개선', '배족', '이기', '능이', '제발', '개선', '지역화폐', '할인', '사용', '사용', '내용', '건의', '가게', '메뉴', '검색', '기능', '일일이', '크롤', '거나', '카테고리', '스크롤할', '바로', '검색', '지역화폐', '결제', '최대', '금액', '설정', '지역화폐', '결제', '금액', '일일이', '입력', '최대', '금액', '선택', '버튼', '인생', '리뷰', '처음', '지역화폐', '골칫거리', '결제', '사용', '대면', '가게', '입점', '다른', '사람', '추천', '다른', '지역', '입점', '홍보', '장도연', '할인', '쿠폰', '상공', '수수료', '땐다', '어플', '자주', '사용', '역시', '배달', '가능', '지역', '불가능', '지역', '미리', '표시', '사용', '사람', '입장', '음식', '기대', '마음', '주문', '주문', '불가', '지역', '이면', '실망', '저희', '배송', '불가', '지역', '주문', '배달', '시스템', '애초', '배송', '불가', '지역', '이면', '주문', '시스템', '처리', '주문', '가게', '위치', '확인', '주문', '주문', '워드', '검색', '가게', '확인', '가기', '워드', '검색', '목록', '화면', '아예', '검색', '화면', '효율', '상태', '라면', '구매', '사랑', '상품권', '삭제', '리뷰', '푸시', '푸시', '리뷰', '작성', '화면', '랜딩되네', '기본', '고려', '어플', '이해해', '등록', '업체', '이해해', '할인', '별로', '이해해', '이해', '검색', '식당', '정도', '사실', '배달', '불가', '지역', '사실', '주문', '완료', '전화', '진짜', '삭제', '사용', '우선', '이벤트', '혜택', '할인', '쿠폰', '여러', '쿠폰', '중첩', '사용', '가능', '지역', '서울', '사용', '만족', '다른', '지역', '초기', '배달', '모두', '과정', '부분', '대해', '이해', '배달', '화이팅', '수수료', '취지', '마음', '듭니', '배달', '배달', '가능', '지역', '속도', '할인', '뭐합', '배달', '배달', '건가', '전부', '보지', '정말', '몇번', '메뉴', '배달', '가능', '지역', '배달', '가게', '위치', '정도', '오류', '원래', '그냥', '여기', '풀이', '할인', '점도', '배달', '무슨', '배달', '가능', '지역', '지금', '모든', '가게', '사용', '사용', '수가', '어플', '사용', '미숙', '현재', '지점', '배달', '가게', '표시', '기능', '추가', '배달', '시도', '전부', '이건', '다른', '배달', '기도', '모로', '사실', '부분', '검색', '검색', '그냥', '원래', '음식점', '검색', '지역', '저번', '이번', '뒤죽박죽', '이용', '배달', '어플', '메뉴', '배달', '가능', '지역', '처음', '가게', '리스트', '제외', '가기', '몇번', '어플', '배달', '다이어트', '하는덴', '최고', '어플', '배달', '어플', '메뉴', '배달', '가능', '지역', '처음', '가게', '리스트', '제외', '가기', '몇번', '어플', '배달', '다이어트', '하는덴', '최고', '어플', '서울', '페이', '살때', '상품권', '주문', '정말', '튕기', '처음', '거래', '은행', '카드', '혜택', '신한카드', '카드', '이미지', '작년', '서울', '페이', '플러스', '이미지', '망인', '아시', '대체', '상품권', '잔액', '조금', '다른', '결제', '천원', '정도', '수가', '상품권', '신한카드', '환불', '다음', '상품권', '계좌', '이체', '정도', '구매', '발주', '매장', '별로', '혜택', '생각', '튕기기', '다른', '쿠폰', '카드', '혜택', '합치', '할인', '율도', '서울', '사랑', '상품권', '구매', '사용', '계속', '오류', '사용', '제로', '페이', '문제', '가동', '서울', '페이', '결제', '먹통', '캐시', '삭제', '핸드폰', '재시', '작도', '상품권', '사용', '관련', '전화', '문의', '연결', '금방', '해결', '수정', '다른', '배달', '어플', '하나', '심지어', '사장', '배달', '배달', '예정', '시간', '한참', '지나', '고객', '센터', '조리', '경우', '발생', '취소', '심지어', '가격', '서울', '페이', '할인', '된거', '어플', '기본', '혜택', '부처님', '어플', '추천', '인터페이스', '지역화폐', '조심스', '네이버', '페이', '결제', '예전', '가게', '얼마', '얼마', '이제', '가게', '지역화폐', '연동', '시너지', '브랜드', '할인', '정말', '지역화폐', '이용', '최고', '건의', '드릴', '자치구', '별로', '이용', '상품권', '다른', '이용', '자치구', '경계', '사람', '여러', '상품권', '실정', '상품권', '구매', '자치구', '가게', '설정', '지도', '가게', '자치구', '어디', '인지', '지역화폐', '할인', '사용', '사용', '내용', '건의', '가게', '메뉴', '검색', '기능', '일일이', '크롤', '거나', '카테고리', '스크롤할', '바로', '검색', '지역화폐', '결제', '최대', '금액', '설정', '지역화폐', '결제', '금액', '일일이', '입력', '최대', '금액', '선택', '버튼', '인생', '리뷰', '처음', '지역화폐', '골칫거리', '결제', '사용', '대면', '가게', '입점', '다른', '사람', '추천', '다른', '지역', '입점', '홍보', '장도연', '할인', '쿠폰', '상공', '수수료', '땐다', '어플', '자주', '사용', '장점', '지역화폐', '카드', '사용', '가능', '수수료', '사장', '상생', '단점', '다소', '최적화', '편의', '불편', '주소지', '등록', '아파트', '동수', '상세', '주소', '호수', '영수증', '제대로', '주소', '배달', '기사', '아파트', '동수', '어디', '전화', '문제', '일수', '상시', '할인', '쿠폰', '지급', '가게', '쿠폰', '가게', '재주', '장점', '심지어', '할인', '쿠폰', '갯수', '한번', '사용', '사용', '불가능', '편의', '배달', '할인', '포기', '굳이', '인터페이스', '지역화폐', '조심스', '네이버', '페이', '결제', '예전', '가게', '얼마', '얼마', '이제', '가게', '지역화폐', '연동', '시너지', '브랜드', '할인', '사태', '문자', '인증', '사용', '카드', '인증', '카드', '몇개', '카카오', '우리', '카드', '인증', '본인', '인증', '처음', '일부러', '분간', '다른', '방법', '카카오', '인증', '네이버', '인증', '등등', '인증', '정도', '제한', '조속', '시정']\n"
     ]
    }
   ],
   "source": [
    "import io\n",
    "from konlpy.tag import Okt\n",
    "from wordcloud import WordCloud\n",
    "import matplotlib.pyplot as plt\n",
    "import re\n",
    "import io\n",
    "\n",
    "f = open(\"data\\땡겨요 리뷰 스크랩.txt\", 'r', encoding=\"utf-8\")\n",
    "reviews = f.readlines()\n",
    "\n",
    "okt = Okt()\n",
    "\n",
    "word_list = []\n",
    "stopwords = []\n",
    "\n",
    "# 구구단을 짜고 홀수로 시작하는 단수만 print하기\n",
    "\n",
    "# for 1 in 9 2단 3단 4단 (문장들)\n",
    "#     for 1 in 9 *1,2,3,4 (단어들)\n",
    "# 반복문, 조건문 연습하기!\n",
    "\n",
    "for review in reviews:\n",
    "    # STEP1: 데이터 전처리\n",
    "    new_review = re.sub(\"[^a-zA-Z가-힣\\s]\", \"\", review)\n",
    "    # STEP2: 형태소 분석\n",
    "    result = okt.nouns(new_review)\n",
    "    \n",
    "    # STEP3: 조건에 맞는 단어 담기\n",
    "    for word in result:\n",
    "        \n",
    "        if len(word) > 1 and word not in stopwords:\n",
    "            word_list.append(word)\n",
    "    \n",
    "print(word_list)\n"
   ]
  },
  {
   "cell_type": "code",
   "execution_count": 6,
   "id": "c1ea46c3",
   "metadata": {},
   "outputs": [
    {
     "name": "stdout",
     "output_type": "stream",
     "text": [
      "Counter({'배달': 29, '사용': 22, '가게': 21, '지역': 17, '지역화폐': 15, '할인': 15, '상품권': 13, '어플': 13, '다른': 12, '검색': 11, '결제': 10, '주문': 9, '자치구': 8, '쿠폰': 8, '가능': 8, '이용': 7, '페이': 7, '카드': 7, '인증': 7, '금액': 6, '처음': 6, '서울': 6, '사람': 5, '구매': 5, '메뉴': 5, '정도': 5, '혜택': 5, '정말': 4, '최고': 4, '건의': 4, '별로': 4, '설정': 4, '주소': 4, '일일이': 4, '최대': 4, '리뷰': 4, '입점': 4, '수수료': 4, '불가': 4, '얼마': 4, '여러': 3, '어디': 3, '식당': 3, '아예': 3, '거나': 3, '기능': 3, '추천': 3, '가기': 3, '화면': 3, '삭제': 3, '이해해': 3, '사실': 3, '전화': 3, '몇번': 3, '심지어': 3, '네이버': 3, '드릴': 2, '경계': 2, '실정': 2, '지도': 2, '인지': 2, '동인': 2, '라이더': 2, '개선': 2, '내용': 2, '크롤': 2, '카테고리': 2, '스크롤할': 2, '바로': 2, '입력': 2, '선택': 2, '버튼': 2, '인생': 2, '골칫거리': 2, '대면': 2, '홍보': 2, '장도연': 2, '상공': 2, '땐다': 2, '자주': 2, '불가능': 2, '표시': 2, '마음': 2, '이면': 2, '배송': 2, '시스템': 2, '위치': 2, '확인': 2, '워드': 2, '사랑': 2, '푸시': 2, '기본': 2, '등록': 2, '이해': 2, '부분': 2, '전부': 2, '오류': 2, '원래': 2, '그냥': 2, '수가': 2, '리스트': 2, '제외': 2, '다이어트': 2, '하는덴': 2, '신한카드': 2, '이미지': 2, '문제': 2, '사장': 2, '인터페이스': 2, '조심스': 2, '예전': 2, '이제': 2, '연동': 2, '시너지': 2, '브랜드': 2, '장점': 2, '편의': 2, '아파트': 2, '동수': 2, '카카오': 2, '실제': 1, '동이': 1, '자동차': 1, '전용': 1, '도로': 1, '대교': 1, '자꾸': 1, '대부분': 1, '오토바이': 1, '차량': 1, '요청': 1, '배족': 1, '이기': 1, '능이': 1, '제발': 1, '역시': 1, '미리': 1, '입장': 1, '음식': 1, '기대': 1, '실망': 1, '저희': 1, '애초': 1, '처리': 1, '목록': 1, '효율': 1, '상태': 1, '라면': 1, '작성': 1, '랜딩되네': 1, '고려': 1, '업체': 1, '완료': 1, '진짜': 1, '우선': 1, '이벤트': 1, '중첩': 1, '만족': 1, '초기': 1, '모두': 1, '과정': 1, '대해': 1, '화이팅': 1, '취지': 1, '듭니': 1, '속도': 1, '뭐합': 1, '건가': 1, '보지': 1, '여기': 1, '풀이': 1, '점도': 1, '무슨': 1, '지금': 1, '모든': 1, '미숙': 1, '현재': 1, '지점': 1, '추가': 1, '시도': 1, '이건': 1, '기도': 1, '모로': 1, '음식점': 1, '저번': 1, '이번': 1, '뒤죽박죽': 1, '살때': 1, '튕기': 1, '거래': 1, '은행': 1, '작년': 1, '플러스': 1, '망인': 1, '아시': 1, '대체': 1, '잔액': 1, '조금': 1, '천원': 1, '환불': 1, '다음': 1, '계좌': 1, '이체': 1, '발주': 1, '매장': 1, '생각': 1, '튕기기': 1, '합치': 1, '율도': 1, '계속': 1, '제로': 1, '가동': 1, '먹통': 1, '캐시': 1, '핸드폰': 1, '재시': 1, '작도': 1, '관련': 1, '문의': 1, '연결': 1, '금방': 1, '해결': 1, '수정': 1, '하나': 1, '예정': 1, '시간': 1, '한참': 1, '지나': 1, '고객': 1, '센터': 1, '조리': 1, '경우': 1, '발생': 1, '취소': 1, '가격': 1, '된거': 1, '부처님': 1, '상생': 1, '단점': 1, '다소': 1, '최적화': 1, '불편': 1, '주소지': 1, '상세': 1, '호수': 1, '영수증': 1, '제대로': 1, '기사': 1, '일수': 1, '상시': 1, '지급': 1, '재주': 1, '갯수': 1, '한번': 1, '포기': 1, '굳이': 1, '사태': 1, '문자': 1, '몇개': 1, '우리': 1, '본인': 1, '일부러': 1, '분간': 1, '방법': 1, '등등': 1, '제한': 1, '조속': 1, '시정': 1})\n",
      "[('배달', 29), ('사용', 22), ('가게', 21), ('지역', 17), ('지역화폐', 15), ('할인', 15), ('상품권', 13), ('어플', 13), ('다른', 12), ('검색', 11), ('결제', 10), ('주문', 9), ('자치구', 8), ('쿠폰', 8), ('가능', 8), ('이용', 7), ('페이', 7), ('카드', 7), ('인증', 7), ('금액', 6), ('처음', 6), ('서울', 6), ('사람', 5), ('구매', 5), ('메뉴', 5), ('정도', 5), ('혜택', 5), ('정말', 4), ('최고', 4), ('건의', 4), ('별로', 4), ('설정', 4), ('주소', 4), ('일일이', 4), ('최대', 4), ('리뷰', 4), ('입점', 4), ('수수료', 4), ('불가', 4), ('얼마', 4), ('여러', 3), ('어디', 3), ('식당', 3), ('아예', 3), ('거나', 3), ('기능', 3), ('추천', 3), ('가기', 3), ('화면', 3), ('삭제', 3), ('이해해', 3), ('사실', 3), ('전화', 3), ('몇번', 3), ('심지어', 3), ('네이버', 3), ('드릴', 2), ('경계', 2), ('실정', 2), ('지도', 2), ('인지', 2), ('동인', 2), ('라이더', 2), ('개선', 2), ('내용', 2), ('크롤', 2), ('카테고리', 2), ('스크롤할', 2), ('바로', 2), ('입력', 2), ('선택', 2), ('버튼', 2), ('인생', 2), ('골칫거리', 2), ('대면', 2), ('홍보', 2), ('장도연', 2), ('상공', 2), ('땐다', 2), ('자주', 2), ('불가능', 2), ('표시', 2), ('마음', 2), ('이면', 2), ('배송', 2), ('시스템', 2), ('위치', 2), ('확인', 2), ('워드', 2), ('사랑', 2), ('푸시', 2), ('기본', 2), ('등록', 2), ('이해', 2), ('부분', 2), ('전부', 2), ('오류', 2), ('원래', 2), ('그냥', 2), ('수가', 2), ('리스트', 2), ('제외', 2), ('다이어트', 2), ('하는덴', 2), ('신한카드', 2), ('이미지', 2), ('문제', 2), ('사장', 2), ('인터페이스', 2), ('조심스', 2), ('예전', 2), ('이제', 2), ('연동', 2), ('시너지', 2), ('브랜드', 2), ('장점', 2), ('편의', 2), ('아파트', 2), ('동수', 2), ('카카오', 2), ('실제', 1), ('동이', 1), ('자동차', 1), ('전용', 1), ('도로', 1), ('대교', 1), ('자꾸', 1), ('대부분', 1), ('오토바이', 1), ('차량', 1), ('요청', 1), ('배족', 1), ('이기', 1), ('능이', 1), ('제발', 1), ('역시', 1), ('미리', 1), ('입장', 1), ('음식', 1), ('기대', 1), ('실망', 1), ('저희', 1), ('애초', 1), ('처리', 1), ('목록', 1), ('효율', 1), ('상태', 1), ('라면', 1), ('작성', 1), ('랜딩되네', 1), ('고려', 1), ('업체', 1), ('완료', 1), ('진짜', 1), ('우선', 1), ('이벤트', 1), ('중첩', 1), ('만족', 1), ('초기', 1), ('모두', 1), ('과정', 1), ('대해', 1), ('화이팅', 1), ('취지', 1), ('듭니', 1), ('속도', 1), ('뭐합', 1), ('건가', 1), ('보지', 1), ('여기', 1), ('풀이', 1), ('점도', 1), ('무슨', 1), ('지금', 1), ('모든', 1), ('미숙', 1), ('현재', 1), ('지점', 1), ('추가', 1), ('시도', 1), ('이건', 1), ('기도', 1), ('모로', 1), ('음식점', 1), ('저번', 1), ('이번', 1), ('뒤죽박죽', 1), ('살때', 1), ('튕기', 1), ('거래', 1), ('은행', 1), ('작년', 1), ('플러스', 1), ('망인', 1), ('아시', 1), ('대체', 1), ('잔액', 1), ('조금', 1), ('천원', 1), ('환불', 1), ('다음', 1), ('계좌', 1), ('이체', 1), ('발주', 1), ('매장', 1), ('생각', 1), ('튕기기', 1), ('합치', 1), ('율도', 1), ('계속', 1), ('제로', 1), ('가동', 1), ('먹통', 1), ('캐시', 1), ('핸드폰', 1), ('재시', 1), ('작도', 1), ('관련', 1), ('문의', 1), ('연결', 1), ('금방', 1), ('해결', 1), ('수정', 1), ('하나', 1), ('예정', 1), ('시간', 1), ('한참', 1), ('지나', 1), ('고객', 1), ('센터', 1), ('조리', 1), ('경우', 1), ('발생', 1), ('취소', 1), ('가격', 1), ('된거', 1), ('부처님', 1), ('상생', 1), ('단점', 1), ('다소', 1), ('최적화', 1), ('불편', 1), ('주소지', 1), ('상세', 1), ('호수', 1), ('영수증', 1), ('제대로', 1), ('기사', 1), ('일수', 1), ('상시', 1), ('지급', 1), ('재주', 1), ('갯수', 1), ('한번', 1), ('포기', 1), ('굳이', 1), ('사태', 1), ('문자', 1), ('몇개', 1), ('우리', 1), ('본인', 1), ('일부러', 1), ('분간', 1), ('방법', 1), ('등등', 1), ('제한', 1), ('조속', 1), ('시정', 1)]\n"
     ]
    },
    {
     "data": {
      "image/png": "[encoded data removed]",
      "text/plain": [
       "<Figure size 500x500 with 1 Axes>"
      ]
     },
     "metadata": {},
     "output_type": "display_data"
    }
   ],
   "source": [
    "from collections import Counter\n",
    "\n",
    "counter = Counter(word_list)\n",
    "print(counter)\n",
    "print(counter.most_common(10000))\n",
    "\n",
    "from wordcloud import WordCloud\n",
    "import matplotlib.pyplot as plt\n",
    "import koreanize_matplotlib\n",
    "\n",
    "## (한번 해보기) Mask로 내가 원하는 모양으로 만들어보기\n",
    "from PIL import Image\n",
    "import numpy as np\n",
    "\n",
    "image = Image.open(\"resources/circle.png\")\n",
    "mask_img = np.array(image)\n",
    "\n",
    "wc = WordCloud(\n",
    "    font_path = \"C:\\Windodws\\Fonts\\malgun.ttf\",\n",
    "    mask=mask_img,\n",
    "    background_color=\"white\",\n",
    "    width=800,\n",
    "    height=400\n",
    ")\n",
    "\n",
    "## (한번 해보기) 가장 많이 발생한 50개만 워드 클라우드로 그려보기\n",
    "wc.generate_from_frequencies(dict(counter.most_common(50)))\n",
    "\n",
    "plt.figure(figsize=(5,5))\n",
    "plt.imshow(wc, interpolation=\"bilinear\")\n",
    "plt.axis(\"off\")\n",
    "plt.title(\"땡겨요 앱 리뷰(단어)\", fontsize=15)\n",
    "plt.show()"
   ]
  },
  {
   "cell_type": "code",
   "execution_count": 19,
   "id": "9c479cc3",
   "metadata": {},
   "outputs": [
    {
     "name": "stdout",
     "output_type": "stream",
     "text": [
      "1\n",
      "3\n",
      "5\n",
      "7\n",
      "9\n"
     ]
    }
   ],
   "source": [
    "# 구구단을 짜고 홀수로 시작하는 단수만 print하기\n",
    "\n",
    "odd_unmber_list = []\n",
    "\n",
    "times_table = [1, 3, 5, 7, 9]\n",
    "\n",
    "for odd_number in times_table:\n",
    "    print(odd_number)\n",
    "\n"
   ]
  },
  {
   "cell_type": "code",
   "execution_count": 18,
   "id": "475767f0",
   "metadata": {},
   "outputs": [
    {
     "name": "stdout",
     "output_type": "stream",
     "text": [
      "1번 학생은 합격입니다.\n",
      "2번 학생은 불합격입니다.\n",
      "3번 학생은 합격입니다.\n",
      "4번 학생은 불합격입니다.\n",
      "5번 학생은 합격입니다.\n"
     ]
    }
   ],
   "source": [
    "marks = [90, 25, 67, 45, 80]\n",
    "number = 0\n",
    "\n",
    "for mark in marks:\n",
    "    number = number + 1\n",
    "    if mark >= 60:\n",
    "        print(\"%d번 학생은 합격입니다.\" %number)\n",
    "    else:\n",
    "        print(\"%d번 학생은 불합격입니다.\" %number)"
   ]
  },
  {
   "cell_type": "code",
   "execution_count": 20,
   "id": "3fe766a3",
   "metadata": {},
   "outputs": [
    {
     "name": "stdout",
     "output_type": "stream",
     "text": [
      "1번 학생은 합격입니다.\n",
      "3번 학생은 합격입니다.\n",
      "5번 학생은 합격입니다.\n"
     ]
    }
   ],
   "source": [
    "marks = [90, 25, 67, 45, 80]\n",
    "number = 0\n",
    "\n",
    "for mark in marks:\n",
    "    number = number + 1\n",
    "    if mark < 60:\n",
    "        continue\n",
    "    print(\"%d번 학생은 합격입니다.\" %number)"
   ]
  },
  {
   "cell_type": "code",
   "execution_count": 30,
   "id": "516dadac",
   "metadata": {},
   "outputs": [
    {
     "name": "stdout",
     "output_type": "stream",
     "text": [
      "range(0, 10)\n",
      "0\n",
      "1\n",
      "2\n",
      "3\n",
      "4\n",
      "5\n",
      "6\n",
      "7\n",
      "8\n",
      "9\n"
     ]
    }
   ],
   "source": [
    "a = range(10)\n",
    "print(a)\n",
    "\n",
    "for i in a:\n",
    "    print(i)\n"
   ]
  },
  {
   "cell_type": "code",
   "execution_count": null,
   "id": "d22bf821",
   "metadata": {},
   "outputs": [
    {
     "name": "stdout",
     "output_type": "stream",
     "text": [
      "range(1, 11)\n",
      "1\n",
      "2\n",
      "3\n",
      "4\n",
      "5\n",
      "6\n",
      "7\n",
      "8\n",
      "9\n",
      "10\n",
      "<bound method DataFrame.info of Empty DataFrame\n",
      "Columns: []\n",
      "Index: []>\n"
     ]
    }
   ],
   "source": [
    "a1 = range(1, 11)\n",
    "print(a1)\n",
    "\n",
    "for y in a1:\n",
    "    print(y)\n",
    "\n"
   ]
  },
  {
   "cell_type": "code",
   "execution_count": null,
   "id": "9b1d1808",
   "metadata": {},
   "outputs": [
    {
     "name": "stdout",
     "output_type": "stream",
     "text": [
      "55\n"
     ]
    }
   ],
   "source": [
    "add = 0\n",
    "\n",
    "for i in range(1, 11):\n",
    "    add = add + i\n",
    "print(add) # 1+2+3+4+5+6+7+8+9+10 = 55 이런 식으로 만들어짐"
   ]
  },
  {
   "cell_type": "code",
   "execution_count": 47,
   "id": "5ce31640",
   "metadata": {},
   "outputs": [
    {
     "name": "stdout",
     "output_type": "stream",
     "text": [
      "1\n",
      "3\n",
      "6\n",
      "10\n",
      "15\n",
      "21\n",
      "28\n",
      "36\n",
      "45\n",
      "55\n"
     ]
    }
   ],
   "source": [
    "add = 0\n",
    "\n",
    "for i in range(1, 11):\n",
    "    add = add + i\n",
    "    print(add) "
   ]
  },
  {
   "cell_type": "code",
   "execution_count": 38,
   "id": "5a94e93c",
   "metadata": {},
   "outputs": [
    {
     "name": "stdout",
     "output_type": "stream",
     "text": [
      "1번 학생은 합격입니다.\n",
      "3번 학생은 합격입니다.\n",
      "5번 학생은 합격입니다.\n"
     ]
    }
   ],
   "source": [
    "marks = [90, 25, 67, 45, 80]\n",
    "for number in range(len(marks)):\n",
    "    if marks[number] < 60:\n",
    "        continue\n",
    "    print(\"%d번 학생은 합격입니다.\" % (number+1))"
   ]
  },
  {
   "cell_type": "code",
   "execution_count": 9,
   "id": "88a6c8b3",
   "metadata": {},
   "outputs": [
    {
     "name": "stdout",
     "output_type": "stream",
     "text": [
      "3 6 9 12 15 18 21 24 27 \n",
      "5 10 15 20 25 30 35 40 45 \n",
      "7 14 21 28 35 42 49 56 63 \n",
      "9 18 27 36 45 54 63 72 81 \n"
     ]
    }
   ],
   "source": [
    "for i in range(2,10):\n",
    "    if i % 2 == 0: \n",
    "            continue\n",
    "\n",
    "    for j in range(1,10):\n",
    "\n",
    "\n",
    "        if i % 2 == 0: \n",
    "            continue\n",
    "        print(i*j, end=\" \")\n",
    "    print('')\n",
    "    \n"
   ]
  },
  {
   "cell_type": "code",
   "execution_count": 5,
   "id": "0ba26d3c",
   "metadata": {},
   "outputs": [
    {
     "name": "stdout",
     "output_type": "stream",
     "text": [
      "\n",
      "3단\n",
      "3 x 1 = 3\n",
      "3 x 2 = 6\n",
      "3 x 3 = 9\n",
      "3 x 4 = 12\n",
      "3 x 5 = 15\n",
      "3 x 6 = 18\n",
      "3 x 7 = 21\n",
      "3 x 8 = 24\n",
      "3 x 9 = 27\n",
      "\n",
      "5단\n",
      "5 x 1 = 5\n",
      "5 x 2 = 10\n",
      "5 x 3 = 15\n",
      "5 x 4 = 20\n",
      "5 x 5 = 25\n",
      "5 x 6 = 30\n",
      "5 x 7 = 35\n",
      "5 x 8 = 40\n",
      "5 x 9 = 45\n",
      "\n",
      "7단\n",
      "7 x 1 = 7\n",
      "7 x 2 = 14\n",
      "7 x 3 = 21\n",
      "7 x 4 = 28\n",
      "7 x 5 = 35\n",
      "7 x 6 = 42\n",
      "7 x 7 = 49\n",
      "7 x 8 = 56\n",
      "7 x 9 = 63\n",
      "\n",
      "9단\n",
      "9 x 1 = 9\n",
      "9 x 2 = 18\n",
      "9 x 3 = 27\n",
      "9 x 4 = 36\n",
      "9 x 5 = 45\n",
      "9 x 6 = 54\n",
      "9 x 7 = 63\n",
      "9 x 8 = 72\n",
      "9 x 9 = 81\n"
     ]
    }
   ],
   "source": [
    "for dan in range(2, 10):  # 단수 1~9\n",
    "    if dan % 2 == 1:      # 홀수 단수만\n",
    "        print(f\"\\n{dan}단\")  # 단 제목 출력\n",
    "        for i in range(1, 10):\n",
    "            print(f\"{dan} x {i} = {dan * i}\")"
   ]
  },
  {
   "cell_type": "code",
   "execution_count": 1,
   "id": "7686fd53",
   "metadata": {},
   "outputs": [
    {
     "data": {
      "text/html": [
       "<div>\n",
       "<style scoped>\n",
       "    .dataframe tbody tr th:only-of-type {\n",
       "        vertical-align: middle;\n",
       "    }\n",
       "\n",
       "    .dataframe tbody tr th {\n",
       "        vertical-align: top;\n",
       "    }\n",
       "\n",
       "    .dataframe thead th {\n",
       "        text-align: right;\n",
       "    }\n",
       "</style>\n",
       "<table border=\"1\" class=\"dataframe\">\n",
       "  <thead>\n",
       "    <tr style=\"text-align: right;\">\n",
       "      <th></th>\n",
       "      <th>날짜</th>\n",
       "      <th>성별</th>\n",
       "      <th>지역</th>\n",
       "      <th>만족도</th>\n",
       "      <th>평균 체류 시간(분)</th>\n",
       "      <th>월 수입(만원)</th>\n",
       "      <th>방문 페이지 수</th>\n",
       "      <th>자녀 수</th>\n",
       "    </tr>\n",
       "  </thead>\n",
       "  <tbody>\n",
       "    <tr>\n",
       "      <th>0</th>\n",
       "      <td>2024-01-01</td>\n",
       "      <td>남</td>\n",
       "      <td>대전</td>\n",
       "      <td>상</td>\n",
       "      <td>40.4</td>\n",
       "      <td>193.0</td>\n",
       "      <td>3</td>\n",
       "      <td>0</td>\n",
       "    </tr>\n",
       "    <tr>\n",
       "      <th>1</th>\n",
       "      <td>2024-01-02</td>\n",
       "      <td>여</td>\n",
       "      <td>대전</td>\n",
       "      <td>중</td>\n",
       "      <td>34.8</td>\n",
       "      <td>288.0</td>\n",
       "      <td>2</td>\n",
       "      <td>2</td>\n",
       "    </tr>\n",
       "    <tr>\n",
       "      <th>2</th>\n",
       "      <td>2024-01-03</td>\n",
       "      <td>남</td>\n",
       "      <td>서울</td>\n",
       "      <td>하</td>\n",
       "      <td>57.2</td>\n",
       "      <td>274.0</td>\n",
       "      <td>8</td>\n",
       "      <td>0</td>\n",
       "    </tr>\n",
       "    <tr>\n",
       "      <th>3</th>\n",
       "      <td>2024-01-04</td>\n",
       "      <td>남</td>\n",
       "      <td>대전</td>\n",
       "      <td>중</td>\n",
       "      <td>45.1</td>\n",
       "      <td>329.0</td>\n",
       "      <td>7</td>\n",
       "      <td>1</td>\n",
       "    </tr>\n",
       "    <tr>\n",
       "      <th>4</th>\n",
       "      <td>2024-01-05</td>\n",
       "      <td>남</td>\n",
       "      <td>서울</td>\n",
       "      <td>상</td>\n",
       "      <td>23.8</td>\n",
       "      <td>341.0</td>\n",
       "      <td>4</td>\n",
       "      <td>0</td>\n",
       "    </tr>\n",
       "  </tbody>\n",
       "</table>\n",
       "</div>"
      ],
      "text/plain": [
       "           날짜 성별  지역 만족도  평균 체류 시간(분)  월 수입(만원)  방문 페이지 수  자녀 수\n",
       "0  2024-01-01  남  대전   상         40.4     193.0         3     0\n",
       "1  2024-01-02  여  대전   중         34.8     288.0         2     2\n",
       "2  2024-01-03  남  서울   하         57.2     274.0         8     0\n",
       "3  2024-01-04  남  대전   중         45.1     329.0         7     1\n",
       "4  2024-01-05  남  서울   상         23.8     341.0         4     0"
      ]
     },
     "execution_count": 1,
     "metadata": {},
     "output_type": "execute_result"
    }
   ],
   "source": [
    "import pandas as pd\n",
    "\n",
    "data = pd.read_csv(\"data/sample_data.csv\")\n",
    "data.head()"
   ]
  },
  {
   "cell_type": "code",
   "execution_count": 2,
   "id": "a3438ae4",
   "metadata": {},
   "outputs": [
    {
     "name": "stdout",
     "output_type": "stream",
     "text": [
      "<class 'pandas.core.frame.DataFrame'>\n",
      "RangeIndex: 150 entries, 0 to 149\n",
      "Data columns (total 8 columns):\n",
      " #   Column       Non-Null Count  Dtype  \n",
      "---  ------       --------------  -----  \n",
      " 0   날짜           150 non-null    object \n",
      " 1   성별           150 non-null    object \n",
      " 2   지역           150 non-null    object \n",
      " 3   만족도          150 non-null    object \n",
      " 4   평균 체류 시간(분)  150 non-null    float64\n",
      " 5   월 수입(만원)     150 non-null    float64\n",
      " 6   방문 페이지 수     150 non-null    int64  \n",
      " 7   자녀 수         150 non-null    int64  \n",
      "dtypes: float64(2), int64(2), object(4)\n",
      "memory usage: 9.5+ KB\n"
     ]
    }
   ],
   "source": [
    "data.info()"
   ]
  },
  {
   "cell_type": "code",
   "execution_count": 3,
   "id": "a218b5eb",
   "metadata": {},
   "outputs": [],
   "source": [
    "import seaborn as sns\n",
    "import matplotlib.pyplot as plt\n",
    "import koreanize_matplotlib"
   ]
  },
  {
   "cell_type": "code",
   "execution_count": 4,
   "id": "a7d8ae75",
   "metadata": {},
   "outputs": [
    {
     "data": {
      "text/html": [
       "<div>\n",
       "<style scoped>\n",
       "    .dataframe tbody tr th:only-of-type {\n",
       "        vertical-align: middle;\n",
       "    }\n",
       "\n",
       "    .dataframe tbody tr th {\n",
       "        vertical-align: top;\n",
       "    }\n",
       "\n",
       "    .dataframe thead th {\n",
       "        text-align: right;\n",
       "    }\n",
       "</style>\n",
       "<table border=\"1\" class=\"dataframe\">\n",
       "  <thead>\n",
       "    <tr style=\"text-align: right;\">\n",
       "      <th></th>\n",
       "      <th>날짜</th>\n",
       "      <th>성별</th>\n",
       "      <th>지역</th>\n",
       "      <th>만족도</th>\n",
       "      <th>평균 체류 시간(분)</th>\n",
       "      <th>월 수입(만원)</th>\n",
       "      <th>방문 페이지 수</th>\n",
       "      <th>자녀 수</th>\n",
       "    </tr>\n",
       "  </thead>\n",
       "  <tbody>\n",
       "    <tr>\n",
       "      <th>0</th>\n",
       "      <td>2024-01-01</td>\n",
       "      <td>남</td>\n",
       "      <td>대전</td>\n",
       "      <td>상</td>\n",
       "      <td>40.4</td>\n",
       "      <td>193.0</td>\n",
       "      <td>3</td>\n",
       "      <td>0</td>\n",
       "    </tr>\n",
       "    <tr>\n",
       "      <th>1</th>\n",
       "      <td>2024-01-02</td>\n",
       "      <td>여</td>\n",
       "      <td>대전</td>\n",
       "      <td>중</td>\n",
       "      <td>34.8</td>\n",
       "      <td>288.0</td>\n",
       "      <td>2</td>\n",
       "      <td>2</td>\n",
       "    </tr>\n",
       "    <tr>\n",
       "      <th>2</th>\n",
       "      <td>2024-01-03</td>\n",
       "      <td>남</td>\n",
       "      <td>서울</td>\n",
       "      <td>하</td>\n",
       "      <td>57.2</td>\n",
       "      <td>274.0</td>\n",
       "      <td>8</td>\n",
       "      <td>0</td>\n",
       "    </tr>\n",
       "    <tr>\n",
       "      <th>3</th>\n",
       "      <td>2024-01-04</td>\n",
       "      <td>남</td>\n",
       "      <td>대전</td>\n",
       "      <td>중</td>\n",
       "      <td>45.1</td>\n",
       "      <td>329.0</td>\n",
       "      <td>7</td>\n",
       "      <td>1</td>\n",
       "    </tr>\n",
       "    <tr>\n",
       "      <th>4</th>\n",
       "      <td>2024-01-05</td>\n",
       "      <td>남</td>\n",
       "      <td>서울</td>\n",
       "      <td>상</td>\n",
       "      <td>23.8</td>\n",
       "      <td>341.0</td>\n",
       "      <td>4</td>\n",
       "      <td>0</td>\n",
       "    </tr>\n",
       "  </tbody>\n",
       "</table>\n",
       "</div>"
      ],
      "text/plain": [
       "           날짜 성별  지역 만족도  평균 체류 시간(분)  월 수입(만원)  방문 페이지 수  자녀 수\n",
       "0  2024-01-01  남  대전   상         40.4     193.0         3     0\n",
       "1  2024-01-02  여  대전   중         34.8     288.0         2     2\n",
       "2  2024-01-03  남  서울   하         57.2     274.0         8     0\n",
       "3  2024-01-04  남  대전   중         45.1     329.0         7     1\n",
       "4  2024-01-05  남  서울   상         23.8     341.0         4     0"
      ]
     },
     "execution_count": 4,
     "metadata": {},
     "output_type": "execute_result"
    }
   ],
   "source": [
    "data.head()"
   ]
  },
  {
   "cell_type": "code",
   "execution_count": 5,
   "id": "45d9bcf7",
   "metadata": {},
   "outputs": [
    {
     "data": {
      "image/png": "[encoded data removed]",
      "text/plain": [
       "<Figure size 500x500 with 1 Axes>"
      ]
     },
     "metadata": {},
     "output_type": "display_data"
    }
   ],
   "source": [
    "plt.figure(figsize=(5,5))\n",
    "sns.countplot(data=data, x=\"만족도\")\n",
    "plt.title(\"만족도에 대한 막대그래프\")\n",
    "plt.show()"
   ]
  }
 ],
 "metadata": {
  "kernelspec": {
   "display_name": "POTENUP",
   "language": "python",
   "name": "python3"
  },
  "language_info": {
   "codemirror_mode": {
    "name": "ipython",
    "version": 3
   },
   "file_extension": ".py",
   "mimetype": "text/x-python",
   "name": "python",
   "nbconvert_exporter": "python",
   "pygments_lexer": "ipython3",
   "version": "3.10.18"
  }
 },
 "nbformat": 4,
 "nbformat_minor": 5
}
