{
 "cells": [
  {
   "cell_type": "markdown",
   "metadata": {},
   "source": [
    "# 넘파이(Numpy)"
   ]
  },
  {
   "cell_type": "markdown",
   "metadata": {},
   "source": [
    "# 1. 배열 생성"
   ]
  },
  {
   "cell_type": "markdown",
   "metadata": {},
   "source": [
    "```\n",
    "uv add numpy\n",
    "```"
   ]
  },
  {
   "cell_type": "code",
   "execution_count": 1,
   "metadata": {},
   "outputs": [],
   "source": [
    "import numpy as np "
   ]
  },
  {
   "cell_type": "markdown",
   "metadata": {},
   "source": [
    "## 1) 1차원 배열 생성"
   ]
  },
  {
   "cell_type": "code",
   "execution_count": 2,
   "metadata": {},
   "outputs": [
    {
     "name": "stdout",
     "output_type": "stream",
     "text": [
      "[1 2 3 4 5]\n",
      "<class 'numpy.ndarray'>\n"
     ]
    },
    {
     "data": {
      "text/plain": [
       "array([1, 2, 3, 4, 5])"
      ]
     },
     "execution_count": 2,
     "metadata": {},
     "output_type": "execute_result"
    }
   ],
   "source": [
    "data = np.array([1, 2, 3, 4, 5])\n",
    "print(data)\n",
    "print(type(data))\n",
    "data"
   ]
  },
  {
   "cell_type": "code",
   "execution_count": 3,
   "metadata": {},
   "outputs": [
    {
     "name": "stdout",
     "output_type": "stream",
     "text": [
      "1\n",
      "(5,)\n"
     ]
    }
   ],
   "source": [
    "# 속성\n",
    "print(data.ndim)  # 차원의 수\n",
    "print(data.shape) # 배열의 크기"
   ]
  },
  {
   "cell_type": "markdown",
   "metadata": {},
   "source": [
    "## 2) 차원별 배열 생성"
   ]
  },
  {
   "cell_type": "code",
   "execution_count": 4,
   "metadata": {},
   "outputs": [
    {
     "data": {
      "text/plain": [
       "array([[1, 2, 3],\n",
       "       [4, 5, 6]])"
      ]
     },
     "execution_count": 4,
     "metadata": {},
     "output_type": "execute_result"
    }
   ],
   "source": [
    "# 2차원\n",
    "arr2 = np.array(\n",
    "    [\n",
    "        [1, 2, 3],\n",
    "        [4, 5, 6]\n",
    "    ]\n",
    ")\n",
    "arr2"
   ]
  },
  {
   "cell_type": "code",
   "execution_count": 5,
   "metadata": {},
   "outputs": [
    {
     "name": "stdout",
     "output_type": "stream",
     "text": [
      "2\n",
      "(2, 3)\n"
     ]
    }
   ],
   "source": [
    "# 속성\n",
    "print(arr2.ndim)  # 차원의 수\n",
    "print(arr2.shape) # 배열의 크기"
   ]
  },
  {
   "cell_type": "code",
   "execution_count": 6,
   "metadata": {},
   "outputs": [
    {
     "data": {
      "text/plain": [
       "array([[[ 1,  2,  3],\n",
       "        [ 4,  5,  6]],\n",
       "\n",
       "       [[ 7,  8,  9],\n",
       "        [10, 11, 12]]])"
      ]
     },
     "execution_count": 6,
     "metadata": {},
     "output_type": "execute_result"
    }
   ],
   "source": [
    "# 3차원\n",
    "arr3 = np.array(\n",
    "    [\n",
    "        [\n",
    "            [1, 2, 3],\n",
    "            [4, 5, 6]\n",
    "        ],\n",
    "        [\n",
    "            [7, 8, 9],\n",
    "            [10, 11, 12]\n",
    "        ]\n",
    "    ]\n",
    ")\n",
    "arr3"
   ]
  },
  {
   "cell_type": "code",
   "execution_count": 7,
   "metadata": {},
   "outputs": [
    {
     "name": "stdout",
     "output_type": "stream",
     "text": [
      "3\n",
      "(2, 2, 3)\n"
     ]
    }
   ],
   "source": [
    "# 속성\n",
    "print(arr3.ndim)  # 차원의 수\n",
    "print(arr3.shape) # 배열의 크기"
   ]
  },
  {
   "cell_type": "markdown",
   "metadata": {},
   "source": [
    "## 3) 패턴이 있는 배열 생성"
   ]
  },
  {
   "cell_type": "code",
   "execution_count": 8,
   "metadata": {},
   "outputs": [
    {
     "name": "stdout",
     "output_type": "stream",
     "text": [
      "[[0. 0. 0.]\n",
      " [0. 0. 0.]\n",
      " [0. 0. 0.]]\n",
      "[[1. 1. 1.]\n",
      " [1. 1. 1.]\n",
      " [1. 1. 1.]]\n",
      "[[99 99 99]\n",
      " [99 99 99]\n",
      " [99 99 99]]\n"
     ]
    }
   ],
   "source": [
    "# 모든 원소가 0인 배열\n",
    "arr1 = np.zeros((3, 3))\n",
    "print(arr1)\n",
    "# 모든 원소가 1인 배열\n",
    "arr2 = np.ones((3, 3))\n",
    "print(arr2)\n",
    "# 모든 원소가 ?인 배열\n",
    "arr3 = np.full((3, 3), fill_value=99)\n",
    "print(arr3)"
   ]
  },
  {
   "cell_type": "code",
   "execution_count": 9,
   "metadata": {},
   "outputs": [
    {
     "name": "stdout",
     "output_type": "stream",
     "text": [
      "[[0.87273625 0.66486828 0.63173531]\n",
      " [0.51748019 0.28182792 0.93310336]]\n"
     ]
    }
   ],
   "source": [
    "# 난수 생성\n",
    "arr_random = np.random.random((2, 3)) # 배열의 크기 입력\n",
    "print(arr_random)"
   ]
  },
  {
   "cell_type": "code",
   "execution_count": 10,
   "metadata": {},
   "outputs": [
    {
     "name": "stdout",
     "output_type": "stream",
     "text": [
      "[0 3 4]\n"
     ]
    }
   ],
   "source": [
    "# 정수인 난수 생성\n",
    "arr_random_int = np.random.randint(0, 10, 3) # 0부터 10-1까지 3개의 난수를 생성\n",
    "print(arr_random_int)"
   ]
  },
  {
   "cell_type": "code",
   "execution_count": 11,
   "metadata": {},
   "outputs": [
    {
     "name": "stdout",
     "output_type": "stream",
     "text": [
      "[0 2 4 6 8]\n"
     ]
    }
   ],
   "source": [
    "# 연속된 배열 생성\n",
    "arr_arange = np.arange(0, 10, 2)\n",
    "print(arr_arange)"
   ]
  },
  {
   "cell_type": "code",
   "execution_count": 12,
   "metadata": {},
   "outputs": [
    {
     "name": "stdout",
     "output_type": "stream",
     "text": [
      "[0.         0.11111111 0.22222222 0.33333333 0.44444444 0.55555556\n",
      " 0.66666667 0.77777778 0.88888889 1.        ]\n"
     ]
    }
   ],
   "source": [
    "# N등분 한 배열 생성\n",
    "arr_linspace = np.linspace(0, 1, 10)\n",
    "print(arr_linspace)"
   ]
  },
  {
   "cell_type": "markdown",
   "metadata": {},
   "source": [
    "# 2. 배열 속성"
   ]
  },
  {
   "cell_type": "code",
   "execution_count": 13,
   "metadata": {},
   "outputs": [],
   "source": [
    "data1 = np.array([1, 2, 3, 4, 5])\n",
    "data2 = np.array([\n",
    "    [1, 2, 3],\n",
    "    [4, 5, 6]\n",
    "])\n",
    "data3 = np.array([\n",
    "    [\n",
    "        [1, 2],\n",
    "        [3, 4],\n",
    "        [5, 6]\n",
    "    ],\n",
    "    [\n",
    "        [7, 8],\n",
    "        [9, 10],\n",
    "        [11, 12]\n",
    "    ]\n",
    "])"
   ]
  },
  {
   "cell_type": "code",
   "execution_count": 14,
   "metadata": {},
   "outputs": [],
   "source": [
    "# .dtype: 배열 안의 요소 타입\n",
    "# .ndim: 차원의 수\n",
    "# .shape: 배열의 크기\n",
    "# .size: 요소의 수"
   ]
  },
  {
   "cell_type": "code",
   "execution_count": 15,
   "metadata": {},
   "outputs": [
    {
     "name": "stdout",
     "output_type": "stream",
     "text": [
      "int64\n",
      "1\n",
      "(5,)\n",
      "5\n"
     ]
    }
   ],
   "source": [
    "print(data1.dtype)\n",
    "print(data1.ndim)\n",
    "print(data1.shape)\n",
    "print(data1.size)"
   ]
  },
  {
   "cell_type": "code",
   "execution_count": 16,
   "metadata": {},
   "outputs": [
    {
     "name": "stdout",
     "output_type": "stream",
     "text": [
      "int64\n",
      "2\n",
      "(2, 3)\n",
      "6\n"
     ]
    }
   ],
   "source": [
    "print(data2.dtype)\n",
    "print(data2.ndim)\n",
    "print(data2.shape)\n",
    "print(data2.size)"
   ]
  },
  {
   "cell_type": "code",
   "execution_count": 17,
   "metadata": {},
   "outputs": [
    {
     "name": "stdout",
     "output_type": "stream",
     "text": [
      "int64\n",
      "3\n",
      "(2, 3, 2)\n",
      "12\n"
     ]
    }
   ],
   "source": [
    "print(data3.dtype)\n",
    "print(data3.ndim)\n",
    "print(data3.shape)\n",
    "print(data3.size)"
   ]
  },
  {
   "cell_type": "code",
   "execution_count": 18,
   "metadata": {},
   "outputs": [
    {
     "name": "stdout",
     "output_type": "stream",
     "text": [
      "<class 'int'>\n",
      "<class 'float'>\n"
     ]
    }
   ],
   "source": [
    "a = 1\n",
    "b = 1.0\n",
    "print(type(a))\n",
    "print(type(b))"
   ]
  },
  {
   "cell_type": "code",
   "execution_count": 28,
   "metadata": {},
   "outputs": [
    {
     "name": "stdout",
     "output_type": "stream",
     "text": [
      "float64\n"
     ]
    }
   ],
   "source": [
    "arr = np.array([1, 2, 3.0])\n",
    "# arr의 dtype은?\n",
    "print(arr.dtype)\n",
    "\n"
   ]
  },
  {
   "cell_type": "markdown",
   "metadata": {},
   "source": [
    "# 3. 배열 변환"
   ]
  },
  {
   "cell_type": "code",
   "execution_count": 20,
   "metadata": {},
   "outputs": [
    {
     "name": "stdout",
     "output_type": "stream",
     "text": [
      "[ 0  1  2  3  4  5  6  7  8  9 10 11 12 13 14]\n",
      "[[ 0  1  2]\n",
      " [ 3  4  5]\n",
      " [ 6  7  8]\n",
      " [ 9 10 11]\n",
      " [12 13 14]]\n"
     ]
    }
   ],
   "source": [
    "# 1차원 -> 2차원으로 변경\n",
    "data = np.arange(0, 15)\n",
    "print(data)\n",
    "data2 = data.reshape(5, 3)\n",
    "print(data2)"
   ]
  },
  {
   "cell_type": "code",
   "execution_count": null,
   "metadata": {},
   "outputs": [
    {
     "name": "stdout",
     "output_type": "stream",
     "text": [
      "(5, 3)\n",
      "[[ 0  3  6  9 12]\n",
      " [ 1  4  7 10 13]\n",
      " [ 2  5  8 11 14]]\n",
      "(3, 5)\n"
     ]
    }
   ],
   "source": [
    "# 행열 전환 ( -> 행,  밑으로 열)\n",
    "data3 = data2.transpose()\n",
    "print(data2.shape)\n",
    "print(data3)\n",
    "print(data3.shape)"
   ]
  },
  {
   "cell_type": "markdown",
   "metadata": {},
   "source": [
    "# 4. 연산"
   ]
  },
  {
   "cell_type": "code",
   "execution_count": 22,
   "metadata": {},
   "outputs": [
    {
     "name": "stdout",
     "output_type": "stream",
     "text": [
      "[[11 22 33]\n",
      " [44 55 66]]\n",
      "[[ -9 -18 -27]\n",
      " [-36 -45 -54]]\n",
      "[[ 10  40  90]\n",
      " [160 250 360]]\n",
      "[[0.1 0.1 0.1]\n",
      " [0.1 0.1 0.1]]\n"
     ]
    }
   ],
   "source": [
    "# 사칙연산 : 같은 위치에 있는 요소들끼리 계산됨\n",
    "data1 = np.array([[1, 2, 3], [4, 5, 6]])\n",
    "data2 = np.array([[10, 20, 30], [40, 50, 60]])\n",
    "\n",
    "print(data1 + data2)\n",
    "print(data1 - data2)\n",
    "print(data1 * data2)\n",
    "print(data1 / data2)"
   ]
  },
  {
   "cell_type": "markdown",
   "metadata": {},
   "source": [
    "# 5. 통계"
   ]
  },
  {
   "cell_type": "code",
   "execution_count": 23,
   "metadata": {},
   "outputs": [
    {
     "name": "stdout",
     "output_type": "stream",
     "text": [
      "21\n",
      "21\n",
      "[5 7 9]\n",
      "==================================================\n",
      "3.5\n",
      "3.5\n",
      "[2.5 3.5 4.5]\n",
      "==================================================\n",
      "2.9166666666666665\n",
      "2.9166666666666665\n",
      "[2.25 2.25 2.25]\n",
      "==================================================\n",
      "1.707825127659933\n",
      "1.707825127659933\n",
      "[1.5 1.5 1.5]\n"
     ]
    }
   ],
   "source": [
    "data1 = np.array([[1, 2, 3], [4, 5, 6]])\n",
    "data2 = np.array([[10, 20, 30], [40, 50, 60]])\n",
    "\n",
    "# sum, mean, var, std\n",
    "print(data1.sum())\n",
    "print(np.sum(data1))\n",
    "print(np.sum(data1, axis=0))\n",
    "print(\"=\"*50)\n",
    "print(data1.mean())\n",
    "print(np.mean(data1))\n",
    "print(np.mean(data1, axis=0))\n",
    "print(\"=\"*50)\n",
    "print(data1.var())\n",
    "print(np.var(data1))\n",
    "print(np.var(data1, axis=0))\n",
    "print(\"=\"*50)\n",
    "print(data1.std())\n",
    "print(np.std(data1))\n",
    "print(np.std(data1, axis=0))"
   ]
  },
  {
   "cell_type": "code",
   "execution_count": 24,
   "metadata": {},
   "outputs": [
    {
     "name": "stdout",
     "output_type": "stream",
     "text": [
      "[[11 13 15]\n",
      " [17 19 21]\n",
      " [23 25 27]]\n",
      "[[12 15 18]\n",
      " [39 42 45]]\n",
      "[[ 6 15 24]\n",
      " [33 42 51]]\n"
     ]
    }
   ],
   "source": [
    "arr = np.array([\n",
    "    [\n",
    "        [1, 2, 3],\n",
    "        [4, 5, 6],\n",
    "        [7, 8, 9]\n",
    "    ],\n",
    "    [\n",
    "        [10, 11, 12],\n",
    "        [13, 14, 15],\n",
    "        [16, 17, 18]\n",
    "    ],\n",
    "])\n",
    "\n",
    "print(np.sum(arr, axis=0))\n",
    "print(np.sum(arr, axis=1))\n",
    "print(np.sum(arr, axis=2))"
   ]
  },
  {
   "cell_type": "markdown",
   "metadata": {},
   "source": [
    "# 6. 실습"
   ]
  },
  {
   "cell_type": "code",
   "execution_count": 25,
   "metadata": {},
   "outputs": [
    {
     "ename": "FileNotFoundError",
     "evalue": "[Errno 2] No such file or directory: 'resources/dog.jpg'",
     "output_type": "error",
     "traceback": [
      "\u001b[1;31m---------------------------------------------------------------------------\u001b[0m",
      "\u001b[1;31mFileNotFoundError\u001b[0m                         Traceback (most recent call last)",
      "Cell \u001b[1;32mIn[25], line 4\u001b[0m\n\u001b[0;32m      1\u001b[0m \u001b[38;5;28;01mfrom\u001b[39;00m\u001b[38;5;250m \u001b[39m\u001b[38;5;21;01mPIL\u001b[39;00m\u001b[38;5;250m \u001b[39m\u001b[38;5;28;01mimport\u001b[39;00m Image \n\u001b[0;32m      2\u001b[0m \u001b[38;5;28;01mfrom\u001b[39;00m\u001b[38;5;250m \u001b[39m\u001b[38;5;21;01mIPython\u001b[39;00m\u001b[38;5;21;01m.\u001b[39;00m\u001b[38;5;21;01mdisplay\u001b[39;00m\u001b[38;5;250m \u001b[39m\u001b[38;5;28;01mimport\u001b[39;00m display \n\u001b[1;32m----> 4\u001b[0m image \u001b[38;5;241m=\u001b[39m \u001b[43mImage\u001b[49m\u001b[38;5;241;43m.\u001b[39;49m\u001b[43mopen\u001b[49m\u001b[43m(\u001b[49m\u001b[38;5;124;43m\"\u001b[39;49m\u001b[38;5;124;43mresources/dog.jpg\u001b[39;49m\u001b[38;5;124;43m\"\u001b[39;49m\u001b[43m)\u001b[49m\n\u001b[0;32m      5\u001b[0m display(image)\n",
      "File \u001b[1;32mc:\\POTENUP\\.venv\\lib\\site-packages\\PIL\\Image.py:3513\u001b[0m, in \u001b[0;36mopen\u001b[1;34m(fp, mode, formats)\u001b[0m\n\u001b[0;32m   3511\u001b[0m \u001b[38;5;28;01mif\u001b[39;00m is_path(fp):\n\u001b[0;32m   3512\u001b[0m     filename \u001b[38;5;241m=\u001b[39m os\u001b[38;5;241m.\u001b[39mfspath(fp)\n\u001b[1;32m-> 3513\u001b[0m     fp \u001b[38;5;241m=\u001b[39m \u001b[43mbuiltins\u001b[49m\u001b[38;5;241;43m.\u001b[39;49m\u001b[43mopen\u001b[49m\u001b[43m(\u001b[49m\u001b[43mfilename\u001b[49m\u001b[43m,\u001b[49m\u001b[43m \u001b[49m\u001b[38;5;124;43m\"\u001b[39;49m\u001b[38;5;124;43mrb\u001b[39;49m\u001b[38;5;124;43m\"\u001b[39;49m\u001b[43m)\u001b[49m\n\u001b[0;32m   3514\u001b[0m     exclusive_fp \u001b[38;5;241m=\u001b[39m \u001b[38;5;28;01mTrue\u001b[39;00m\n\u001b[0;32m   3515\u001b[0m \u001b[38;5;28;01melse\u001b[39;00m:\n",
      "\u001b[1;31mFileNotFoundError\u001b[0m: [Errno 2] No such file or directory: 'resources/dog.jpg'"
     ]
    }
   ],
   "source": [
    "from PIL import Image \n",
    "from IPython.display import display \n",
    "\n",
    "image = Image.open(\"resources/dog.jpg\")\n",
    "display(image)"
   ]
  },
  {
   "cell_type": "code",
   "execution_count": null,
   "metadata": {},
   "outputs": [
    {
     "name": "stdout",
     "output_type": "stream",
     "text": [
      "3\n",
      "(439, 600, 3)\n",
      "[[[106 119  39]\n",
      "  [106 119  39]\n",
      "  [107 120  40]\n",
      "  ...\n",
      "  [216 232 255]\n",
      "  [218 234 255]\n",
      "  [218 234 255]]\n",
      "\n",
      " [[105 118  38]\n",
      "  [106 119  39]\n",
      "  [107 120  40]\n",
      "  ...\n",
      "  [216 232 255]\n",
      "  [217 233 255]\n",
      "  [218 234 255]]\n",
      "\n",
      " [[105 118  39]\n",
      "  [105 118  39]\n",
      "  [106 119  40]\n",
      "  ...\n",
      "  [215 231 255]\n",
      "  [216 232 255]\n",
      "  [216 232 255]]\n",
      "\n",
      " ...\n",
      "\n",
      " [[104 134  74]\n",
      "  [109 139  79]\n",
      "  [112 140  81]\n",
      "  ...\n",
      "  [123 150  99]\n",
      "  [107 130  84]\n",
      "  [ 66  92  45]]\n",
      "\n",
      " [[ 81 111  51]\n",
      "  [ 87 117  57]\n",
      "  [ 91 119  60]\n",
      "  ...\n",
      "  [136 163 110]\n",
      "  [104 130  82]\n",
      "  [ 62  88  40]]\n",
      "\n",
      " [[ 74 103  45]\n",
      "  [ 75 104  46]\n",
      "  [ 79 107  48]\n",
      "  ...\n",
      "  [118 147  93]\n",
      "  [ 90 118  67]\n",
      "  [ 68  96  45]]]\n"
     ]
    }
   ],
   "source": [
    "import numpy as np \n",
    "image_arr = np.array(image)\n",
    "print(image_arr.ndim)\n",
    "print(image_arr.shape)\n",
    "print(image_arr)"
   ]
  },
  {
   "cell_type": "code",
   "execution_count": null,
   "metadata": {},
   "outputs": [],
   "source": [
    "import numpy as np\n",
    "\n",
    "def make_random_teams(student_list, team_size=3, seed=42):\n",
    "    np.random.seed(seed)  # 항상 같은 결과를 위해 시드 고정\n",
    "    shuffled = np.array(student_list)  # 원본 리스트를 복사하여 섞기\n",
    "    np.random.shuffle(shuffled)\n",
    "\n",
    "    num_teams = len(shuffled) // team_size\n",
    "    teams = []\n",
    "    for i in range(num_teams):\n",
    "        team = shuffled[i * team_size : (i + 1) * team_size]\n",
    "        teams.append(team)\n",
    "    \n",
    "    return teams\n",
    "\n",
    "if __name__ == \"__main__\":\n",
    "    students = [\n",
    "        '강경란', '김서영', '김선재', '김유정', '박종욱', '백승주',\n",
    "        '이성윤', '이연', '이재민', '이재진', '이진섭', '장찬영',\n",
    "        '전민우', '전아연', '차요준', '최윤재', '황난혜', '황화인'\n",
    "    ]\n",
    "\n",
    "    teams = make_random_teams(students, seed=123)  # 원하는 seed 값 넣기\n",
    "\n",
    "    for idx, team in enumerate(teams, 1):\n",
    "        print(f\"{idx}조: {team}\")"
   ]
  }
 ],
 "metadata": {
  "kernelspec": {
   "display_name": "POTENUP",
   "language": "python",
   "name": "python3"
  },
  "language_info": {
   "codemirror_mode": {
    "name": "ipython",
    "version": 3
   },
   "file_extension": ".py",
   "mimetype": "text/x-python",
   "name": "python",
   "nbconvert_exporter": "python",
   "pygments_lexer": "ipython3",
   "version": "3.10.18"
  }
 },
 "nbformat": 4,
 "nbformat_minor": 2
}
