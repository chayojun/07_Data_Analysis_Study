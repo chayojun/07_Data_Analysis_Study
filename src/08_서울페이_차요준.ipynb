{
 "cells": [
  {
   "cell_type": "code",
   "execution_count": 1,
   "id": "d89386c3",
   "metadata": {},
   "outputs": [
    {
     "data": {
      "text/html": [
       "<div>\n",
       "<style scoped>\n",
       "    .dataframe tbody tr th:only-of-type {\n",
       "        vertical-align: middle;\n",
       "    }\n",
       "\n",
       "    .dataframe tbody tr th {\n",
       "        vertical-align: top;\n",
       "    }\n",
       "\n",
       "    .dataframe thead th {\n",
       "        text-align: right;\n",
       "    }\n",
       "</style>\n",
       "<table border=\"1\" class=\"dataframe\">\n",
       "  <thead>\n",
       "    <tr style=\"text-align: right;\">\n",
       "      <th></th>\n",
       "      <th>서울페이앱분류업종</th>\n",
       "      <th>자치구</th>\n",
       "      <th>상품권매출금액\\n(24년1월~24년6월)</th>\n",
       "      <th>상품권거래건수\\n(24년1월~24년6월)</th>\n",
       "    </tr>\n",
       "  </thead>\n",
       "  <tbody>\n",
       "    <tr>\n",
       "      <th>0</th>\n",
       "      <td>기타</td>\n",
       "      <td>중구</td>\n",
       "      <td>3583515256</td>\n",
       "      <td>192005</td>\n",
       "    </tr>\n",
       "    <tr>\n",
       "      <th>1</th>\n",
       "      <td>기타</td>\n",
       "      <td>강남구</td>\n",
       "      <td>884966860</td>\n",
       "      <td>1420</td>\n",
       "    </tr>\n",
       "    <tr>\n",
       "      <th>2</th>\n",
       "      <td>기술/기능교육</td>\n",
       "      <td>관악구</td>\n",
       "      <td>773314650</td>\n",
       "      <td>4291</td>\n",
       "    </tr>\n",
       "    <tr>\n",
       "      <th>3</th>\n",
       "      <td>음식점/식음료업</td>\n",
       "      <td>용산구</td>\n",
       "      <td>526168313</td>\n",
       "      <td>3769</td>\n",
       "    </tr>\n",
       "    <tr>\n",
       "      <th>4</th>\n",
       "      <td>의류/잡화</td>\n",
       "      <td>용산구</td>\n",
       "      <td>445410988</td>\n",
       "      <td>3416</td>\n",
       "    </tr>\n",
       "  </tbody>\n",
       "</table>\n",
       "</div>"
      ],
      "text/plain": [
       "  서울페이앱분류업종  자치구  상품권매출금액\\n(24년1월~24년6월)  상품권거래건수\\n(24년1월~24년6월)\n",
       "0        기타   중구              3583515256                  192005\n",
       "1        기타  강남구               884966860                    1420\n",
       "2   기술/기능교육  관악구               773314650                    4291\n",
       "3  음식점/식음료업  용산구               526168313                    3769\n",
       "4     의류/잡화  용산구               445410988                    3416"
      ]
     },
     "execution_count": 1,
     "metadata": {},
     "output_type": "execute_result"
    }
   ],
   "source": [
    "import numpy as np\n",
    "import pandas as pd\n",
    "import matplotlib.pyplot as plt\n",
    "import koreanize_matplotlib\n",
    "import seaborn as sns\n",
    "import folium as fo\n",
    "\n",
    "data = pd.read_excel(\"data/서울페이_행정동별_업종별 결제현황(24.6).xlsx\")\n",
    "data.head()"
   ]
  },
  {
   "cell_type": "code",
   "execution_count": 4,
   "id": "7dcf8813",
   "metadata": {},
   "outputs": [
    {
     "data": {
      "text/plain": [
       "(251006, 4)"
      ]
     },
     "execution_count": 4,
     "metadata": {},
     "output_type": "execute_result"
    }
   ],
   "source": [
    "data.shape"
   ]
  },
  {
   "cell_type": "code",
   "execution_count": 2,
   "id": "32cad77e",
   "metadata": {},
   "outputs": [
    {
     "name": "stdout",
     "output_type": "stream",
     "text": [
      "<class 'pandas.core.frame.DataFrame'>\n",
      "RangeIndex: 251006 entries, 0 to 251005\n",
      "Data columns (total 4 columns):\n",
      " #   Column                 Non-Null Count   Dtype \n",
      "---  ------                 --------------   ----- \n",
      " 0   서울페이앱분류업종              251006 non-null  object\n",
      " 1   자치구                    251006 non-null  object\n",
      " 2   상품권매출금액\n",
      "(24년1월~24년6월)  251006 non-null  int64 \n",
      " 3   상품권거래건수\n",
      "(24년1월~24년6월)  251006 non-null  int64 \n",
      "dtypes: int64(2), object(2)\n",
      "memory usage: 7.7+ MB\n"
     ]
    }
   ],
   "source": [
    "data.info()"
   ]
  }
 ],
 "metadata": {
  "kernelspec": {
   "display_name": "POTENUP",
   "language": "python",
   "name": "python3"
  },
  "language_info": {
   "codemirror_mode": {
    "name": "ipython",
    "version": 3
   },
   "file_extension": ".py",
   "mimetype": "text/x-python",
   "name": "python",
   "nbconvert_exporter": "python",
   "pygments_lexer": "ipython3",
   "version": "3.10.18"
  }
 },
 "nbformat": 4,
 "nbformat_minor": 5
}
