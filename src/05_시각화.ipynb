{
 "cells": [
  {
   "cell_type": "markdown",
   "id": "30a07431",
   "metadata": {
    "id": "30a07431"
   },
   "source": [
    "# 시각화"
   ]
  },
  {
   "cell_type": "markdown",
   "id": "6738c20a",
   "metadata": {
    "id": "6738c20a"
   },
   "source": [
    "```\n",
    "uv add matplotlib seaborn\n",
    "```"
   ]
  },
  {
   "cell_type": "markdown",
   "id": "1fd1fd32",
   "metadata": {
    "id": "1fd1fd32"
   },
   "source": [
    "# 1. 데이터 불러오기"
   ]
  },
  {
   "cell_type": "markdown",
   "id": "b278e6f4",
   "metadata": {
    "id": "b278e6f4"
   },
   "source": [
    "웹 기반 서비스의 사용자 행동, 설문 기반 사용자 특성 데이터"
   ]
  },
  {
   "cell_type": "code",
   "execution_count": 5,
   "id": "1d03fbd0",
   "metadata": {
    "colab": {
     "base_uri": "https://localhost:8080/",
     "height": 379
    },
    "executionInfo": {
     "elapsed": 18,
     "status": "error",
     "timestamp": 1752913277559,
     "user": {
      "displayName": "황화인",
      "userId": "04038467336742435321"
     },
     "user_tz": -540
    },
    "id": "1d03fbd0",
    "outputId": "434245a0-bf45-4db7-cf86-02d216050d33"
   },
   "outputs": [
    {
     "data": {
      "text/html": [
       "<div>\n",
       "<style scoped>\n",
       "    .dataframe tbody tr th:only-of-type {\n",
       "        vertical-align: middle;\n",
       "    }\n",
       "\n",
       "    .dataframe tbody tr th {\n",
       "        vertical-align: top;\n",
       "    }\n",
       "\n",
       "    .dataframe thead th {\n",
       "        text-align: right;\n",
       "    }\n",
       "</style>\n",
       "<table border=\"1\" class=\"dataframe\">\n",
       "  <thead>\n",
       "    <tr style=\"text-align: right;\">\n",
       "      <th></th>\n",
       "      <th>날짜</th>\n",
       "      <th>성별</th>\n",
       "      <th>지역</th>\n",
       "      <th>만족도</th>\n",
       "      <th>평균 체류 시간(분)</th>\n",
       "      <th>월 수입(만원)</th>\n",
       "      <th>방문 페이지 수</th>\n",
       "      <th>자녀 수</th>\n",
       "    </tr>\n",
       "  </thead>\n",
       "  <tbody>\n",
       "    <tr>\n",
       "      <th>0</th>\n",
       "      <td>2024-01-01</td>\n",
       "      <td>남</td>\n",
       "      <td>대전</td>\n",
       "      <td>상</td>\n",
       "      <td>40.4</td>\n",
       "      <td>193.0</td>\n",
       "      <td>3</td>\n",
       "      <td>0</td>\n",
       "    </tr>\n",
       "    <tr>\n",
       "      <th>1</th>\n",
       "      <td>2024-01-02</td>\n",
       "      <td>여</td>\n",
       "      <td>대전</td>\n",
       "      <td>중</td>\n",
       "      <td>34.8</td>\n",
       "      <td>288.0</td>\n",
       "      <td>2</td>\n",
       "      <td>2</td>\n",
       "    </tr>\n",
       "    <tr>\n",
       "      <th>2</th>\n",
       "      <td>2024-01-03</td>\n",
       "      <td>남</td>\n",
       "      <td>서울</td>\n",
       "      <td>하</td>\n",
       "      <td>57.2</td>\n",
       "      <td>274.0</td>\n",
       "      <td>8</td>\n",
       "      <td>0</td>\n",
       "    </tr>\n",
       "    <tr>\n",
       "      <th>3</th>\n",
       "      <td>2024-01-04</td>\n",
       "      <td>남</td>\n",
       "      <td>대전</td>\n",
       "      <td>중</td>\n",
       "      <td>45.1</td>\n",
       "      <td>329.0</td>\n",
       "      <td>7</td>\n",
       "      <td>1</td>\n",
       "    </tr>\n",
       "    <tr>\n",
       "      <th>4</th>\n",
       "      <td>2024-01-05</td>\n",
       "      <td>남</td>\n",
       "      <td>서울</td>\n",
       "      <td>상</td>\n",
       "      <td>23.8</td>\n",
       "      <td>341.0</td>\n",
       "      <td>4</td>\n",
       "      <td>0</td>\n",
       "    </tr>\n",
       "  </tbody>\n",
       "</table>\n",
       "</div>"
      ],
      "text/plain": [
       "           날짜 성별  지역 만족도  평균 체류 시간(분)  월 수입(만원)  방문 페이지 수  자녀 수\n",
       "0  2024-01-01  남  대전   상         40.4     193.0         3     0\n",
       "1  2024-01-02  여  대전   중         34.8     288.0         2     2\n",
       "2  2024-01-03  남  서울   하         57.2     274.0         8     0\n",
       "3  2024-01-04  남  대전   중         45.1     329.0         7     1\n",
       "4  2024-01-05  남  서울   상         23.8     341.0         4     0"
      ]
     },
     "execution_count": 5,
     "metadata": {},
     "output_type": "execute_result"
    }
   ],
   "source": [
    "import pandas as pd\n",
    "\n",
    "# sample_data.csv 파일을 불러와주세요\n",
    "data = pd.read_csv(\"data/sample_data.csv\")\n",
    "data.head()"
   ]
  },
  {
   "cell_type": "code",
   "execution_count": 6,
   "id": "24b44cdb",
   "metadata": {
    "executionInfo": {
     "elapsed": 59,
     "status": "aborted",
     "timestamp": 1752913270841,
     "user": {
      "displayName": "황화인",
      "userId": "04038467336742435321"
     },
     "user_tz": -540
    },
    "id": "24b44cdb"
   },
   "outputs": [
    {
     "name": "stdout",
     "output_type": "stream",
     "text": [
      "<class 'pandas.core.frame.DataFrame'>\n",
      "RangeIndex: 150 entries, 0 to 149\n",
      "Data columns (total 8 columns):\n",
      " #   Column       Non-Null Count  Dtype  \n",
      "---  ------       --------------  -----  \n",
      " 0   날짜           150 non-null    object \n",
      " 1   성별           150 non-null    object \n",
      " 2   지역           150 non-null    object \n",
      " 3   만족도          150 non-null    object \n",
      " 4   평균 체류 시간(분)  150 non-null    float64\n",
      " 5   월 수입(만원)     150 non-null    float64\n",
      " 6   방문 페이지 수     150 non-null    int64  \n",
      " 7   자녀 수         150 non-null    int64  \n",
      "dtypes: float64(2), int64(2), object(4)\n",
      "memory usage: 9.5+ KB\n"
     ]
    }
   ],
   "source": [
    "data.info()"
   ]
  },
  {
   "cell_type": "markdown",
   "id": "b6768eed",
   "metadata": {
    "id": "b6768eed"
   },
   "source": [
    "# 2. 시각화"
   ]
  },
  {
   "cell_type": "markdown",
   "id": "b0e07e67",
   "metadata": {
    "id": "b0e07e67"
   },
   "source": [
    "```\n",
    "uv add koreanize-matplotlib\n",
    "```"
   ]
  },
  {
   "cell_type": "markdown",
   "id": "ec183bb2",
   "metadata": {
    "id": "ec183bb2"
   },
   "source": [
    "## 1) 범주형 데이터"
   ]
  },
  {
   "cell_type": "code",
   "execution_count": 7,
   "id": "c56fe9e3",
   "metadata": {
    "executionInfo": {
     "elapsed": 1065,
     "status": "aborted",
     "timestamp": 1752913270843,
     "user": {
      "displayName": "황화인",
      "userId": "04038467336742435321"
     },
     "user_tz": -540
    },
    "id": "c56fe9e3"
   },
   "outputs": [],
   "source": [
    "import seaborn as sns\n",
    "import matplotlib.pyplot as plt\n",
    "import koreanize_matplotlib"
   ]
  },
  {
   "cell_type": "code",
   "execution_count": 8,
   "id": "9080baae",
   "metadata": {
    "executionInfo": {
     "elapsed": 1062,
     "status": "aborted",
     "timestamp": 1752913270844,
     "user": {
      "displayName": "황화인",
      "userId": "04038467336742435321"
     },
     "user_tz": -540
    },
    "id": "9080baae"
   },
   "outputs": [
    {
     "data": {
      "text/html": [
       "<div>\n",
       "<style scoped>\n",
       "    .dataframe tbody tr th:only-of-type {\n",
       "        vertical-align: middle;\n",
       "    }\n",
       "\n",
       "    .dataframe tbody tr th {\n",
       "        vertical-align: top;\n",
       "    }\n",
       "\n",
       "    .dataframe thead th {\n",
       "        text-align: right;\n",
       "    }\n",
       "</style>\n",
       "<table border=\"1\" class=\"dataframe\">\n",
       "  <thead>\n",
       "    <tr style=\"text-align: right;\">\n",
       "      <th></th>\n",
       "      <th>날짜</th>\n",
       "      <th>성별</th>\n",
       "      <th>지역</th>\n",
       "      <th>만족도</th>\n",
       "      <th>평균 체류 시간(분)</th>\n",
       "      <th>월 수입(만원)</th>\n",
       "      <th>방문 페이지 수</th>\n",
       "      <th>자녀 수</th>\n",
       "    </tr>\n",
       "  </thead>\n",
       "  <tbody>\n",
       "    <tr>\n",
       "      <th>0</th>\n",
       "      <td>2024-01-01</td>\n",
       "      <td>남</td>\n",
       "      <td>대전</td>\n",
       "      <td>상</td>\n",
       "      <td>40.4</td>\n",
       "      <td>193.0</td>\n",
       "      <td>3</td>\n",
       "      <td>0</td>\n",
       "    </tr>\n",
       "    <tr>\n",
       "      <th>1</th>\n",
       "      <td>2024-01-02</td>\n",
       "      <td>여</td>\n",
       "      <td>대전</td>\n",
       "      <td>중</td>\n",
       "      <td>34.8</td>\n",
       "      <td>288.0</td>\n",
       "      <td>2</td>\n",
       "      <td>2</td>\n",
       "    </tr>\n",
       "    <tr>\n",
       "      <th>2</th>\n",
       "      <td>2024-01-03</td>\n",
       "      <td>남</td>\n",
       "      <td>서울</td>\n",
       "      <td>하</td>\n",
       "      <td>57.2</td>\n",
       "      <td>274.0</td>\n",
       "      <td>8</td>\n",
       "      <td>0</td>\n",
       "    </tr>\n",
       "    <tr>\n",
       "      <th>3</th>\n",
       "      <td>2024-01-04</td>\n",
       "      <td>남</td>\n",
       "      <td>대전</td>\n",
       "      <td>중</td>\n",
       "      <td>45.1</td>\n",
       "      <td>329.0</td>\n",
       "      <td>7</td>\n",
       "      <td>1</td>\n",
       "    </tr>\n",
       "    <tr>\n",
       "      <th>4</th>\n",
       "      <td>2024-01-05</td>\n",
       "      <td>남</td>\n",
       "      <td>서울</td>\n",
       "      <td>상</td>\n",
       "      <td>23.8</td>\n",
       "      <td>341.0</td>\n",
       "      <td>4</td>\n",
       "      <td>0</td>\n",
       "    </tr>\n",
       "  </tbody>\n",
       "</table>\n",
       "</div>"
      ],
      "text/plain": [
       "           날짜 성별  지역 만족도  평균 체류 시간(분)  월 수입(만원)  방문 페이지 수  자녀 수\n",
       "0  2024-01-01  남  대전   상         40.4     193.0         3     0\n",
       "1  2024-01-02  여  대전   중         34.8     288.0         2     2\n",
       "2  2024-01-03  남  서울   하         57.2     274.0         8     0\n",
       "3  2024-01-04  남  대전   중         45.1     329.0         7     1\n",
       "4  2024-01-05  남  서울   상         23.8     341.0         4     0"
      ]
     },
     "execution_count": 8,
     "metadata": {},
     "output_type": "execute_result"
    }
   ],
   "source": [
    "data.head()"
   ]
  },
  {
   "cell_type": "code",
   "execution_count": 9,
   "id": "505b45e7",
   "metadata": {
    "executionInfo": {
     "elapsed": 1060,
     "status": "aborted",
     "timestamp": 1752913270846,
     "user": {
      "displayName": "황화인",
      "userId": "04038467336742435321"
     },
     "user_tz": -540
    },
    "id": "505b45e7"
   },
   "outputs": [
    {
     "data": {
      "text/plain": [
       "0      남\n",
       "1      여\n",
       "2      남\n",
       "3      남\n",
       "4      남\n",
       "      ..\n",
       "145    남\n",
       "146    남\n",
       "147    남\n",
       "148    남\n",
       "149    여\n",
       "Name: 성별, Length: 150, dtype: object"
      ]
     },
     "execution_count": 9,
     "metadata": {},
     "output_type": "execute_result"
    }
   ],
   "source": [
    "data[\"성별\"]"
   ]
  },
  {
   "cell_type": "code",
   "execution_count": 10,
   "id": "31c1b7e1",
   "metadata": {
    "executionInfo": {
     "elapsed": 1059,
     "status": "aborted",
     "timestamp": 1752913270849,
     "user": {
      "displayName": "황화인",
      "userId": "04038467336742435321"
     },
     "user_tz": -540
    },
    "id": "31c1b7e1"
   },
   "outputs": [
    {
     "data": {
      "image/png": "[encoded data removed]",
      "text/plain": [
       "<Figure size 300x700 with 1 Axes>"
      ]
     },
     "metadata": {},
     "output_type": "display_data"
    }
   ],
   "source": [
    "plt.figure(figsize=(3, 7))\n",
    "sns.countplot(data=data, x=\"성별\")\n",
    "plt.title(\"성별에 대한 막대그래프\")\n",
    "plt.show()"
   ]
  },
  {
   "cell_type": "code",
   "execution_count": 11,
   "id": "728d6233",
   "metadata": {
    "executionInfo": {
     "elapsed": 1077,
     "status": "aborted",
     "timestamp": 1752913270872,
     "user": {
      "displayName": "황화인",
      "userId": "04038467336742435321"
     },
     "user_tz": -540
    },
    "id": "728d6233"
   },
   "outputs": [
    {
     "data": {
      "text/plain": [
       "Text(0.5, 1.0, '성별에 대한 막대그래프')"
      ]
     },
     "execution_count": 11,
     "metadata": {},
     "output_type": "execute_result"
    },
    {
     "data": {
      "image/png": "[encoded data removed]",
      "text/plain": [
       "<Figure size 300x300 with 1 Axes>"
      ]
     },
     "metadata": {},
     "output_type": "display_data"
    }
   ],
   "source": [
    "plt.figure(figsize=(3, 3))\n",
    "gender_data = data[\"성별\"].value_counts()\n",
    "gender_data.plot(kind=\"bar\")\n",
    "plt.title(\"성별에 대한 막대그래프\")"
   ]
  },
  {
   "cell_type": "markdown",
   "id": "9093e9a5",
   "metadata": {
    "id": "9093e9a5"
   },
   "source": [
    "## 2) 순서형 데이터"
   ]
  },
  {
   "cell_type": "code",
   "execution_count": 12,
   "id": "a037ed43",
   "metadata": {
    "executionInfo": {
     "elapsed": 1075,
     "status": "aborted",
     "timestamp": 1752913270873,
     "user": {
      "displayName": "황화인",
      "userId": "04038467336742435321"
     },
     "user_tz": -540
    },
    "id": "a037ed43"
   },
   "outputs": [
    {
     "data": {
      "image/png": "[encoded data removed]",
      "text/plain": [
       "<Figure size 300x300 with 1 Axes>"
      ]
     },
     "metadata": {},
     "output_type": "display_data"
    }
   ],
   "source": [
    "# 만족도에 대한 막대 그래프를 그려주세요\n",
    "plt.figure(figsize=(3,3))\n",
    "sns.countplot(data=data, x=\"만족도\", order=[\"하\", \"중\", \"상\"])\n",
    "plt.title(\"만족도에 대한 막대그래프\")\n",
    "plt.show()"
   ]
  },
  {
   "cell_type": "code",
   "execution_count": 13,
   "id": "d0cbf5c3",
   "metadata": {
    "executionInfo": {
     "elapsed": 1073,
     "status": "aborted",
     "timestamp": 1752913270875,
     "user": {
      "displayName": "황화인",
      "userId": "04038467336742435321"
     },
     "user_tz": -540
    },
    "id": "d0cbf5c3"
   },
   "outputs": [
    {
     "data": {
      "image/png": "[encoded data removed]",
      "text/plain": [
       "<Figure size 300x300 with 1 Axes>"
      ]
     },
     "metadata": {},
     "output_type": "display_data"
    }
   ],
   "source": [
    "# 성별에 따른 만족도 막대그래프를 그려주세요\n",
    "plt.figure(figsize=(3,3))\n",
    "sns.countplot(data=data, x=\"만족도\", order=[\"하\", \"중\", \"상\"], hue=\"성별\")\n",
    "plt.title(\"만족도에 대한 막대그래프\")\n",
    "plt.show()"
   ]
  },
  {
   "cell_type": "markdown",
   "id": "83d00778",
   "metadata": {
    "id": "83d00778"
   },
   "source": [
    "## 3) 연속형 데이터"
   ]
  },
  {
   "cell_type": "code",
   "execution_count": 14,
   "id": "6f36bd1f",
   "metadata": {
    "executionInfo": {
     "elapsed": 1071,
     "status": "aborted",
     "timestamp": 1752913270876,
     "user": {
      "displayName": "황화인",
      "userId": "04038467336742435321"
     },
     "user_tz": -540
    },
    "id": "6f36bd1f"
   },
   "outputs": [
    {
     "data": {
      "image/png": "[encoded data removed]",
      "text/plain": [
       "<Figure size 300x300 with 1 Axes>"
      ]
     },
     "metadata": {},
     "output_type": "display_data"
    }
   ],
   "source": [
    "# \"월 수입(만원)\"열에 대한 히스토그램\n",
    "plt.figure(figsize=(3, 3))\n",
    "plt.hist(data[\"월 수입(만원)\"], bins=10, edgecolor=\"black\")\n",
    "plt.title(\"월 수입(만원) 히스토그램\")\n",
    "plt.show()"
   ]
  },
  {
   "cell_type": "code",
   "execution_count": 15,
   "id": "e17880ca",
   "metadata": {
    "executionInfo": {
     "elapsed": 1070,
     "status": "aborted",
     "timestamp": 1752913270878,
     "user": {
      "displayName": "황화인",
      "userId": "04038467336742435321"
     },
     "user_tz": -540
    },
    "id": "e17880ca"
   },
   "outputs": [
    {
     "data": {
      "image/png": "[encoded data removed]",
      "text/plain": [
       "<Figure size 300x300 with 1 Axes>"
      ]
     },
     "metadata": {},
     "output_type": "display_data"
    }
   ],
   "source": [
    "plt.figure(figsize=(3,3))\n",
    "plt.boxplot(x=data[\"월 수입(만원)\"])\n",
    "plt.title(\"월 수입(만원)에 대한 Box Plot\")\n",
    "plt.xlabel(\"월 수입(만원)\")\n",
    "plt.show()"
   ]
  },
  {
   "cell_type": "code",
   "execution_count": 16,
   "id": "8ecbc2b4",
   "metadata": {
    "executionInfo": {
     "elapsed": 1067,
     "status": "aborted",
     "timestamp": 1752913270880,
     "user": {
      "displayName": "황화인",
      "userId": "04038467336742435321"
     },
     "user_tz": -540
    },
    "id": "8ecbc2b4"
   },
   "outputs": [
    {
     "data": {
      "image/png": "[encoded data removed]",
      "text/plain": [
       "<Figure size 300x300 with 1 Axes>"
      ]
     },
     "metadata": {},
     "output_type": "display_data"
    }
   ],
   "source": [
    "plt.figure(figsize=(3,3))\n",
    "# sns.boxplot(data=data, y=\"월 수입(만원)\")\n",
    "sns.boxplot(data=data, x=\"월 수입(만원)\")\n",
    "plt.title(\"월 수입(만원)에 대한 Box Plot\")\n",
    "plt.show()"
   ]
  },
  {
   "cell_type": "code",
   "execution_count": 17,
   "id": "269e7af8",
   "metadata": {
    "executionInfo": {
     "elapsed": 1065,
     "status": "aborted",
     "timestamp": 1752913270882,
     "user": {
      "displayName": "황화인",
      "userId": "04038467336742435321"
     },
     "user_tz": -540
    },
    "id": "269e7af8"
   },
   "outputs": [
    {
     "data": {
      "image/png": "[encoded data removed]",
      "text/plain": [
       "<Figure size 300x300 with 1 Axes>"
      ]
     },
     "metadata": {},
     "output_type": "display_data"
    }
   ],
   "source": [
    "plt.figure(figsize=(3,3))\n",
    "sns.boxplot(data=data, y=\"월 수입(만원)\")\n",
    "plt.title(\"월 수입(만원)에 대한 Box Plot\")\n",
    "plt.show()"
   ]
  },
  {
   "cell_type": "code",
   "execution_count": 18,
   "id": "68c5e57f",
   "metadata": {
    "executionInfo": {
     "elapsed": 1064,
     "status": "aborted",
     "timestamp": 1752913270884,
     "user": {
      "displayName": "황화인",
      "userId": "04038467336742435321"
     },
     "user_tz": -540
    },
    "id": "68c5e57f"
   },
   "outputs": [
    {
     "data": {
      "image/png": "[encoded data removed]",
      "text/plain": [
       "<Figure size 300x300 with 1 Axes>"
      ]
     },
     "metadata": {},
     "output_type": "display_data"
    }
   ],
   "source": [
    "# 성별에 따른 월 수입 상자도표 그리기\n",
    "plt.figure(figsize=(3,3))\n",
    "sns.boxplot(data=data, x=\"성별\", y=\"월 수입(만원)\")\n",
    "plt.title(\"성별 월 수입(만원) Box Plot\")\n",
    "plt.show()"
   ]
  },
  {
   "cell_type": "markdown",
   "id": "c04ef98a",
   "metadata": {
    "id": "c04ef98a"
   },
   "source": [
    "## 4) 이산형 데이터"
   ]
  },
  {
   "cell_type": "code",
   "execution_count": 19,
   "id": "53aa9504",
   "metadata": {
    "executionInfo": {
     "elapsed": 1062,
     "status": "aborted",
     "timestamp": 1752913270885,
     "user": {
      "displayName": "황화인",
      "userId": "04038467336742435321"
     },
     "user_tz": -540
    },
    "id": "53aa9504"
   },
   "outputs": [
    {
     "data": {
      "image/png": "[encoded data removed]",
      "text/plain": [
       "<Figure size 300x300 with 1 Axes>"
      ]
     },
     "metadata": {},
     "output_type": "display_data"
    }
   ],
   "source": [
    "# 방문 페이지 수\n",
    "## 구글링: ax를 이용한 시각화 도전\n",
    "fig, ax = plt.subplots(figsize=(3,3))\n",
    "sns.countplot(data=data, x=\"방문 페이지 수\", ax=ax)\n",
    "ax.set_title(\"방문 페이지 수에 대한 막대그래프\")\n",
    "plt.show()"
   ]
  },
  {
   "cell_type": "markdown",
   "id": "968fc69b",
   "metadata": {
    "id": "968fc69b"
   },
   "source": [
    "## 5) 시계열 데이터"
   ]
  },
  {
   "cell_type": "markdown",
   "id": "d3515e30",
   "metadata": {
    "id": "d3515e30"
   },
   "source": [
    "* 날짜에 대한 데이터 타입은 `datetime`이다."
   ]
  },
  {
   "cell_type": "markdown",
   "id": "bc7f9b3b",
   "metadata": {
    "id": "bc7f9b3b"
   },
   "source": [
    "### 날짜를 datatime으로 인식하는 방법 I"
   ]
  },
  {
   "cell_type": "code",
   "execution_count": 20,
   "id": "e6451863",
   "metadata": {
    "executionInfo": {
     "elapsed": 1060,
     "status": "aborted",
     "timestamp": 1752913270887,
     "user": {
      "displayName": "황화인",
      "userId": "04038467336742435321"
     },
     "user_tz": -540
    },
    "id": "e6451863"
   },
   "outputs": [
    {
     "data": {
      "text/html": [
       "<div>\n",
       "<style scoped>\n",
       "    .dataframe tbody tr th:only-of-type {\n",
       "        vertical-align: middle;\n",
       "    }\n",
       "\n",
       "    .dataframe tbody tr th {\n",
       "        vertical-align: top;\n",
       "    }\n",
       "\n",
       "    .dataframe thead th {\n",
       "        text-align: right;\n",
       "    }\n",
       "</style>\n",
       "<table border=\"1\" class=\"dataframe\">\n",
       "  <thead>\n",
       "    <tr style=\"text-align: right;\">\n",
       "      <th></th>\n",
       "      <th>날짜</th>\n",
       "      <th>성별</th>\n",
       "      <th>지역</th>\n",
       "      <th>만족도</th>\n",
       "      <th>평균 체류 시간(분)</th>\n",
       "      <th>월 수입(만원)</th>\n",
       "      <th>방문 페이지 수</th>\n",
       "      <th>자녀 수</th>\n",
       "    </tr>\n",
       "  </thead>\n",
       "  <tbody>\n",
       "    <tr>\n",
       "      <th>0</th>\n",
       "      <td>2024-01-01</td>\n",
       "      <td>남</td>\n",
       "      <td>대전</td>\n",
       "      <td>상</td>\n",
       "      <td>40.4</td>\n",
       "      <td>193.0</td>\n",
       "      <td>3</td>\n",
       "      <td>0</td>\n",
       "    </tr>\n",
       "    <tr>\n",
       "      <th>1</th>\n",
       "      <td>2024-01-02</td>\n",
       "      <td>여</td>\n",
       "      <td>대전</td>\n",
       "      <td>중</td>\n",
       "      <td>34.8</td>\n",
       "      <td>288.0</td>\n",
       "      <td>2</td>\n",
       "      <td>2</td>\n",
       "    </tr>\n",
       "    <tr>\n",
       "      <th>2</th>\n",
       "      <td>2024-01-03</td>\n",
       "      <td>남</td>\n",
       "      <td>서울</td>\n",
       "      <td>하</td>\n",
       "      <td>57.2</td>\n",
       "      <td>274.0</td>\n",
       "      <td>8</td>\n",
       "      <td>0</td>\n",
       "    </tr>\n",
       "    <tr>\n",
       "      <th>3</th>\n",
       "      <td>2024-01-04</td>\n",
       "      <td>남</td>\n",
       "      <td>대전</td>\n",
       "      <td>중</td>\n",
       "      <td>45.1</td>\n",
       "      <td>329.0</td>\n",
       "      <td>7</td>\n",
       "      <td>1</td>\n",
       "    </tr>\n",
       "    <tr>\n",
       "      <th>4</th>\n",
       "      <td>2024-01-05</td>\n",
       "      <td>남</td>\n",
       "      <td>서울</td>\n",
       "      <td>상</td>\n",
       "      <td>23.8</td>\n",
       "      <td>341.0</td>\n",
       "      <td>4</td>\n",
       "      <td>0</td>\n",
       "    </tr>\n",
       "    <tr>\n",
       "      <th>...</th>\n",
       "      <td>...</td>\n",
       "      <td>...</td>\n",
       "      <td>...</td>\n",
       "      <td>...</td>\n",
       "      <td>...</td>\n",
       "      <td>...</td>\n",
       "      <td>...</td>\n",
       "      <td>...</td>\n",
       "    </tr>\n",
       "    <tr>\n",
       "      <th>145</th>\n",
       "      <td>2024-05-25</td>\n",
       "      <td>남</td>\n",
       "      <td>광주</td>\n",
       "      <td>중</td>\n",
       "      <td>41.5</td>\n",
       "      <td>323.0</td>\n",
       "      <td>5</td>\n",
       "      <td>0</td>\n",
       "    </tr>\n",
       "    <tr>\n",
       "      <th>146</th>\n",
       "      <td>2024-05-26</td>\n",
       "      <td>남</td>\n",
       "      <td>부산</td>\n",
       "      <td>상</td>\n",
       "      <td>57.5</td>\n",
       "      <td>336.0</td>\n",
       "      <td>4</td>\n",
       "      <td>1</td>\n",
       "    </tr>\n",
       "    <tr>\n",
       "      <th>147</th>\n",
       "      <td>2024-05-27</td>\n",
       "      <td>남</td>\n",
       "      <td>대전</td>\n",
       "      <td>중</td>\n",
       "      <td>33.5</td>\n",
       "      <td>266.0</td>\n",
       "      <td>6</td>\n",
       "      <td>1</td>\n",
       "    </tr>\n",
       "    <tr>\n",
       "      <th>148</th>\n",
       "      <td>2024-05-28</td>\n",
       "      <td>남</td>\n",
       "      <td>서울</td>\n",
       "      <td>중</td>\n",
       "      <td>33.3</td>\n",
       "      <td>358.0</td>\n",
       "      <td>8</td>\n",
       "      <td>0</td>\n",
       "    </tr>\n",
       "    <tr>\n",
       "      <th>149</th>\n",
       "      <td>2024-05-29</td>\n",
       "      <td>여</td>\n",
       "      <td>광주</td>\n",
       "      <td>하</td>\n",
       "      <td>35.2</td>\n",
       "      <td>220.0</td>\n",
       "      <td>4</td>\n",
       "      <td>0</td>\n",
       "    </tr>\n",
       "  </tbody>\n",
       "</table>\n",
       "<p>150 rows × 8 columns</p>\n",
       "</div>"
      ],
      "text/plain": [
       "            날짜 성별  지역 만족도  평균 체류 시간(분)  월 수입(만원)  방문 페이지 수  자녀 수\n",
       "0   2024-01-01  남  대전   상         40.4     193.0         3     0\n",
       "1   2024-01-02  여  대전   중         34.8     288.0         2     2\n",
       "2   2024-01-03  남  서울   하         57.2     274.0         8     0\n",
       "3   2024-01-04  남  대전   중         45.1     329.0         7     1\n",
       "4   2024-01-05  남  서울   상         23.8     341.0         4     0\n",
       "..         ... ..  ..  ..          ...       ...       ...   ...\n",
       "145 2024-05-25  남  광주   중         41.5     323.0         5     0\n",
       "146 2024-05-26  남  부산   상         57.5     336.0         4     1\n",
       "147 2024-05-27  남  대전   중         33.5     266.0         6     1\n",
       "148 2024-05-28  남  서울   중         33.3     358.0         8     0\n",
       "149 2024-05-29  여  광주   하         35.2     220.0         4     0\n",
       "\n",
       "[150 rows x 8 columns]"
      ]
     },
     "execution_count": 20,
     "metadata": {},
     "output_type": "execute_result"
    }
   ],
   "source": [
    "# sample_data.csv를 불러와주세요\n",
    "data = pd.read_csv(\"data/sample_data.csv\", parse_dates=[\"날짜\"])\n",
    "data"
   ]
  },
  {
   "cell_type": "code",
   "execution_count": 21,
   "id": "c0b1ddfd",
   "metadata": {
    "executionInfo": {
     "elapsed": 1058,
     "status": "aborted",
     "timestamp": 1752913270888,
     "user": {
      "displayName": "황화인",
      "userId": "04038467336742435321"
     },
     "user_tz": -540
    },
    "id": "c0b1ddfd"
   },
   "outputs": [
    {
     "name": "stdout",
     "output_type": "stream",
     "text": [
      "<class 'pandas.core.frame.DataFrame'>\n",
      "RangeIndex: 150 entries, 0 to 149\n",
      "Data columns (total 8 columns):\n",
      " #   Column       Non-Null Count  Dtype         \n",
      "---  ------       --------------  -----         \n",
      " 0   날짜           150 non-null    datetime64[ns]\n",
      " 1   성별           150 non-null    object        \n",
      " 2   지역           150 non-null    object        \n",
      " 3   만족도          150 non-null    object        \n",
      " 4   평균 체류 시간(분)  150 non-null    float64       \n",
      " 5   월 수입(만원)     150 non-null    float64       \n",
      " 6   방문 페이지 수     150 non-null    int64         \n",
      " 7   자녀 수         150 non-null    int64         \n",
      "dtypes: datetime64[ns](1), float64(2), int64(2), object(3)\n",
      "memory usage: 9.5+ KB\n"
     ]
    }
   ],
   "source": [
    "data.info()"
   ]
  },
  {
   "cell_type": "markdown",
   "id": "00f8d099",
   "metadata": {
    "id": "00f8d099"
   },
   "source": [
    "### 날짜 열을 datetime으로 바꾸는 방법 II"
   ]
  },
  {
   "cell_type": "code",
   "execution_count": 22,
   "id": "d2b0addb",
   "metadata": {
    "executionInfo": {
     "elapsed": 1059,
     "status": "aborted",
     "timestamp": 1752913270891,
     "user": {
      "displayName": "황화인",
      "userId": "04038467336742435321"
     },
     "user_tz": -540
    },
    "id": "d2b0addb"
   },
   "outputs": [
    {
     "name": "stdout",
     "output_type": "stream",
     "text": [
      "<class 'pandas.core.frame.DataFrame'>\n",
      "RangeIndex: 150 entries, 0 to 149\n",
      "Data columns (total 8 columns):\n",
      " #   Column       Non-Null Count  Dtype  \n",
      "---  ------       --------------  -----  \n",
      " 0   날짜           150 non-null    object \n",
      " 1   성별           150 non-null    object \n",
      " 2   지역           150 non-null    object \n",
      " 3   만족도          150 non-null    object \n",
      " 4   평균 체류 시간(분)  150 non-null    float64\n",
      " 5   월 수입(만원)     150 non-null    float64\n",
      " 6   방문 페이지 수     150 non-null    int64  \n",
      " 7   자녀 수         150 non-null    int64  \n",
      "dtypes: float64(2), int64(2), object(4)\n",
      "memory usage: 9.5+ KB\n"
     ]
    }
   ],
   "source": [
    "data = pd.read_csv(\"data/sample_data.csv\")\n",
    "data.info()"
   ]
  },
  {
   "cell_type": "code",
   "execution_count": 23,
   "id": "eb488838",
   "metadata": {
    "executionInfo": {
     "elapsed": 1057,
     "status": "aborted",
     "timestamp": 1752913270892,
     "user": {
      "displayName": "황화인",
      "userId": "04038467336742435321"
     },
     "user_tz": -540
    },
    "id": "eb488838"
   },
   "outputs": [
    {
     "name": "stdout",
     "output_type": "stream",
     "text": [
      "<class 'pandas.core.frame.DataFrame'>\n",
      "RangeIndex: 150 entries, 0 to 149\n",
      "Data columns (total 8 columns):\n",
      " #   Column       Non-Null Count  Dtype         \n",
      "---  ------       --------------  -----         \n",
      " 0   날짜           150 non-null    datetime64[ns]\n",
      " 1   성별           150 non-null    object        \n",
      " 2   지역           150 non-null    object        \n",
      " 3   만족도          150 non-null    object        \n",
      " 4   평균 체류 시간(분)  150 non-null    float64       \n",
      " 5   월 수입(만원)     150 non-null    float64       \n",
      " 6   방문 페이지 수     150 non-null    int64         \n",
      " 7   자녀 수         150 non-null    int64         \n",
      "dtypes: datetime64[ns](1), float64(2), int64(2), object(3)\n",
      "memory usage: 9.5+ KB\n"
     ]
    }
   ],
   "source": [
    "data[\"날짜\"] = pd.to_datetime(data[\"날짜\"])\n",
    "data.info()"
   ]
  },
  {
   "cell_type": "code",
   "execution_count": 24,
   "id": "decf7c61",
   "metadata": {
    "executionInfo": {
     "elapsed": 1055,
     "status": "aborted",
     "timestamp": 1752913270893,
     "user": {
      "displayName": "황화인",
      "userId": "04038467336742435321"
     },
     "user_tz": -540
    },
    "id": "decf7c61"
   },
   "outputs": [
    {
     "data": {
      "image/png": "[encoded data removed]",
      "text/plain": [
       "<Figure size 1000x400 with 1 Axes>"
      ]
     },
     "metadata": {},
     "output_type": "display_data"
    }
   ],
   "source": [
    "fig, ax = plt.subplots(figsize=(10, 4))\n",
    "ax.plot(data[\"날짜\"], data[\"평균 체류 시간(분)\"], marker=\"o\")\n",
    "ax.set_title(\"날짜별 평균 체류 시간 변화 그래프\")\n",
    "ax.set_xlabel(\"날짜\")\n",
    "ax.set_ylabel(\"평균 체류 시간(분)\")\n",
    "plt.show()"
   ]
  },
  {
   "cell_type": "code",
   "execution_count": 25,
   "id": "5567815e",
   "metadata": {
    "executionInfo": {
     "elapsed": 1054,
     "status": "aborted",
     "timestamp": 1752913270895,
     "user": {
      "displayName": "황화인",
      "userId": "04038467336742435321"
     },
     "user_tz": -540
    },
    "id": "5567815e"
   },
   "outputs": [
    {
     "data": {
      "text/html": [
       "<div>\n",
       "<style scoped>\n",
       "    .dataframe tbody tr th:only-of-type {\n",
       "        vertical-align: middle;\n",
       "    }\n",
       "\n",
       "    .dataframe tbody tr th {\n",
       "        vertical-align: top;\n",
       "    }\n",
       "\n",
       "    .dataframe thead th {\n",
       "        text-align: right;\n",
       "    }\n",
       "</style>\n",
       "<table border=\"1\" class=\"dataframe\">\n",
       "  <thead>\n",
       "    <tr style=\"text-align: right;\">\n",
       "      <th></th>\n",
       "      <th>날짜</th>\n",
       "      <th>평균 체류 시간(분)</th>\n",
       "    </tr>\n",
       "  </thead>\n",
       "  <tbody>\n",
       "    <tr>\n",
       "      <th>0</th>\n",
       "      <td>2024-01-01</td>\n",
       "      <td>40.4</td>\n",
       "    </tr>\n",
       "    <tr>\n",
       "      <th>1</th>\n",
       "      <td>2024-01-02</td>\n",
       "      <td>34.8</td>\n",
       "    </tr>\n",
       "    <tr>\n",
       "      <th>2</th>\n",
       "      <td>2024-01-03</td>\n",
       "      <td>57.2</td>\n",
       "    </tr>\n",
       "    <tr>\n",
       "      <th>3</th>\n",
       "      <td>2024-01-04</td>\n",
       "      <td>45.1</td>\n",
       "    </tr>\n",
       "    <tr>\n",
       "      <th>4</th>\n",
       "      <td>2024-01-05</td>\n",
       "      <td>23.8</td>\n",
       "    </tr>\n",
       "    <tr>\n",
       "      <th>...</th>\n",
       "      <td>...</td>\n",
       "      <td>...</td>\n",
       "    </tr>\n",
       "    <tr>\n",
       "      <th>145</th>\n",
       "      <td>2024-05-25</td>\n",
       "      <td>41.5</td>\n",
       "    </tr>\n",
       "    <tr>\n",
       "      <th>146</th>\n",
       "      <td>2024-05-26</td>\n",
       "      <td>57.5</td>\n",
       "    </tr>\n",
       "    <tr>\n",
       "      <th>147</th>\n",
       "      <td>2024-05-27</td>\n",
       "      <td>33.5</td>\n",
       "    </tr>\n",
       "    <tr>\n",
       "      <th>148</th>\n",
       "      <td>2024-05-28</td>\n",
       "      <td>33.3</td>\n",
       "    </tr>\n",
       "    <tr>\n",
       "      <th>149</th>\n",
       "      <td>2024-05-29</td>\n",
       "      <td>35.2</td>\n",
       "    </tr>\n",
       "  </tbody>\n",
       "</table>\n",
       "<p>150 rows × 2 columns</p>\n",
       "</div>"
      ],
      "text/plain": [
       "            날짜  평균 체류 시간(분)\n",
       "0   2024-01-01         40.4\n",
       "1   2024-01-02         34.8\n",
       "2   2024-01-03         57.2\n",
       "3   2024-01-04         45.1\n",
       "4   2024-01-05         23.8\n",
       "..         ...          ...\n",
       "145 2024-05-25         41.5\n",
       "146 2024-05-26         57.5\n",
       "147 2024-05-27         33.5\n",
       "148 2024-05-28         33.3\n",
       "149 2024-05-29         35.2\n",
       "\n",
       "[150 rows x 2 columns]"
      ]
     },
     "execution_count": 25,
     "metadata": {},
     "output_type": "execute_result"
    }
   ],
   "source": [
    "# 날짜, 평균 체류 시간(분) 열만 추출하세요\n",
    "data[[\"날짜\", \"평균 체류 시간(분)\"]]"
   ]
  },
  {
   "cell_type": "markdown",
   "id": "14575057",
   "metadata": {
    "id": "14575057"
   },
   "source": [
    "# matplotlib와 seaborn의 차이"
   ]
  },
  {
   "cell_type": "code",
   "execution_count": 26,
   "id": "0d5946f0",
   "metadata": {
    "executionInfo": {
     "elapsed": 1051,
     "status": "aborted",
     "timestamp": 1752913270896,
     "user": {
      "displayName": "황화인",
      "userId": "04038467336742435321"
     },
     "user_tz": -540
    },
    "id": "0d5946f0"
   },
   "outputs": [
    {
     "data": {
      "text/plain": [
       "성별\n",
       "여    82\n",
       "남    68\n",
       "Name: count, dtype: int64"
      ]
     },
     "execution_count": 26,
     "metadata": {},
     "output_type": "execute_result"
    }
   ],
   "source": [
    "import matplotlib.pyplot as plt\n",
    "import seaborn as sns\n",
    "\n",
    "# 성별에 대한 막대그래프 만들기\n",
    "# [\"남\", \"여\", \"남\", \"남\", ......]\n",
    "# 막대그래프는 어떻게 그릴까? 남자는 몇 명이고 여자는 몇 명인지 카운트 해야 한다.\n",
    "gender_data = data[\"성별\"].value_counts()\n",
    "gender_data"
   ]
  },
  {
   "cell_type": "code",
   "execution_count": 27,
   "id": "ac46623c",
   "metadata": {
    "executionInfo": {
     "elapsed": 1050,
     "status": "aborted",
     "timestamp": 1752913270897,
     "user": {
      "displayName": "황화인",
      "userId": "04038467336742435321"
     },
     "user_tz": -540
    },
    "id": "ac46623c"
   },
   "outputs": [
    {
     "data": {
      "image/png": "[encoded data removed]",
      "text/plain": [
       "<Figure size 300x300 with 1 Axes>"
      ]
     },
     "metadata": {},
     "output_type": "display_data"
    }
   ],
   "source": [
    "plt.figure(figsize=(3,3))\n",
    "gender_data.plot(kind=\"bar\")\n",
    "plt.title(\"성별에 대한 막대그래프\")\n",
    "plt.show()"
   ]
  },
  {
   "cell_type": "code",
   "execution_count": 28,
   "id": "6301087e",
   "metadata": {
    "executionInfo": {
     "elapsed": 1047,
     "status": "aborted",
     "timestamp": 1752913270898,
     "user": {
      "displayName": "황화인",
      "userId": "04038467336742435321"
     },
     "user_tz": -540
    },
    "id": "6301087e"
   },
   "outputs": [
    {
     "data": {
      "image/png": "[encoded data removed]",
      "text/plain": [
       "<Figure size 300x300 with 1 Axes>"
      ]
     },
     "metadata": {},
     "output_type": "display_data"
    }
   ],
   "source": [
    "plt.figure(figsize=(3,3))\n",
    "sns.countplot(data=data, x=\"성별\")\n",
    "plt.title(\"성별에 대한 막대그래프\")\n",
    "plt.show()"
   ]
  },
  {
   "cell_type": "markdown",
   "id": "83ddff6b",
   "metadata": {
    "id": "83ddff6b"
   },
   "source": [
    "# subplots"
   ]
  },
  {
   "cell_type": "code",
   "execution_count": 29,
   "id": "e3a5f45b",
   "metadata": {
    "executionInfo": {
     "elapsed": 1048,
     "status": "aborted",
     "timestamp": 1752913270900,
     "user": {
      "displayName": "황화인",
      "userId": "04038467336742435321"
     },
     "user_tz": -540
    },
    "id": "e3a5f45b"
   },
   "outputs": [],
   "source": [
    "import matplotlib.pyplot as plt\n",
    "import seaborn as sns"
   ]
  },
  {
   "cell_type": "code",
   "execution_count": 30,
   "id": "ab7bafea",
   "metadata": {
    "executionInfo": {
     "elapsed": 1045,
     "status": "aborted",
     "timestamp": 1752913270901,
     "user": {
      "displayName": "황화인",
      "userId": "04038467336742435321"
     },
     "user_tz": -540
    },
    "id": "ab7bafea"
   },
   "outputs": [
    {
     "data": {
      "text/plain": [
       "(<Figure size 300x300 with 1 Axes>, <Axes: >)"
      ]
     },
     "execution_count": 30,
     "metadata": {},
     "output_type": "execute_result"
    },
    {
     "data": {
      "image/png": "[encoded data removed]",
      "text/plain": [
       "<Figure size 300x300 with 1 Axes>"
      ]
     },
     "metadata": {},
     "output_type": "display_data"
    }
   ],
   "source": [
    "plt.subplots(figsize=(3,3))"
   ]
  },
  {
   "cell_type": "code",
   "execution_count": 31,
   "id": "85c0ae0f",
   "metadata": {
    "executionInfo": {
     "elapsed": 1043,
     "status": "aborted",
     "timestamp": 1752913270902,
     "user": {
      "displayName": "황화인",
      "userId": "04038467336742435321"
     },
     "user_tz": -540
    },
    "id": "85c0ae0f"
   },
   "outputs": [
    {
     "data": {
      "text/plain": [
       "(<Figure size 1000x300 with 3 Axes>,\n",
       " array([<Axes: >, <Axes: >, <Axes: >], dtype=object))"
      ]
     },
     "execution_count": 31,
     "metadata": {},
     "output_type": "execute_result"
    },
    {
     "data": {
      "image/png": "[encoded data removed]",
      "text/plain": [
       "<Figure size 1000x300 with 3 Axes>"
      ]
     },
     "metadata": {},
     "output_type": "display_data"
    }
   ],
   "source": [
    "plt.subplots(1, 3, figsize=(10,3))"
   ]
  },
  {
   "cell_type": "code",
   "execution_count": 32,
   "id": "e5a6235a",
   "metadata": {
    "executionInfo": {
     "elapsed": 1069,
     "status": "aborted",
     "timestamp": 1752913270932,
     "user": {
      "displayName": "황화인",
      "userId": "04038467336742435321"
     },
     "user_tz": -540
    },
    "id": "e5a6235a"
   },
   "outputs": [
    {
     "data": {
      "image/png": "[encoded data removed]",
      "text/plain": [
       "<Figure size 1000x300 with 3 Axes>"
      ]
     },
     "metadata": {},
     "output_type": "display_data"
    }
   ],
   "source": [
    "fig, ax = plt.subplots(1, 3, figsize=(10,3))\n",
    "# 첫번째 그래프: 자녀 수에 대한 막대 그래프\n",
    "sns.countplot(data=data, x=\"자녀 수\", ax=ax[0])\n",
    "ax[0].set_title(\"자녀 수에 대한 막대그래프\")\n",
    "# 두번째 그래프: 평균 체류 시간(분)에 대한 히스토그램\n",
    "ax[1].hist(data[\"평균 체류 시간(분)\"], edgecolor=\"black\")\n",
    "ax[1].set_title(\"평균 체류 시간(분)에 대한 히스토그램\")\n",
    "# 세번째 그래프: 월 수입(만원)에 대한 상자그림\n",
    "# ax[2].boxplot(x=data[\"월 수입(만원)\"], vert=False)\n",
    "sns.boxplot(y=data[\"월 수입(만원)\"], ax=ax[2])\n",
    "ax[2].set_title(\"월 수입(만원)에 대한 Box Plot\")\n",
    "ax[2].set_xlabel(\"월 수입(만원)\")\n",
    "plt.show()"
   ]
  }
 ],
 "metadata": {
  "colab": {
   "provenance": []
  },
  "kernelspec": {
   "display_name": "POTENUP",
   "language": "python",
   "name": "python3"
  },
  "language_info": {
   "codemirror_mode": {
    "name": "ipython",
    "version": 3
   },
   "file_extension": ".py",
   "mimetype": "text/x-python",
   "name": "python",
   "nbconvert_exporter": "python",
   "pygments_lexer": "ipython3",
   "version": "3.10.18"
  }
 },
 "nbformat": 4,
 "nbformat_minor": 5
}
