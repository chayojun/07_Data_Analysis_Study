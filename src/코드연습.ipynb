{
 "cells": [
  {
   "cell_type": "markdown",
   "id": "f1199f17",
   "metadata": {},
   "source": [
    "# 파이썬 기초 특강"
   ]
  },
  {
   "cell_type": "markdown",
   "id": "59a9aaa6",
   "metadata": {},
   "source": [
    "## 개념 이해하기"
   ]
  },
  {
   "cell_type": "code",
   "execution_count": null,
   "id": "d887b2e4",
   "metadata": {},
   "outputs": [],
   "source": [
    "# 1. 복사 붙여넣기 금지\n",
    "# 2. 주석 없이 코드 먼저 쓰기 금지\n",
    "# 3. 5분 이상 고민 금지"
   ]
  },
  {
   "cell_type": "code",
   "execution_count": null,
   "id": "f12e064a",
   "metadata": {},
   "outputs": [],
   "source": [
    "# 주석 쓰는 방법\n",
    "# 1. 변수를 먼저 쓴다.\n",
    "# 2. 시나리오를 쓴다.\n",
    "# 3. 코드로 바꿔본다."
   ]
  },
  {
   "cell_type": "code",
   "execution_count": null,
   "id": "56b144b5",
   "metadata": {},
   "outputs": [],
   "source": [
    "# 반복문 while\n",
    "# while 조건:\n",
    "    # 조건이 True일때 할일들을 쓴다.\n",
    "\n",
    "# 예시\n",
    "i = 0\n",
    "while i < 3:\n",
    "    print(i)\n",
    "    i += 1\n",
    "\n",
    "# i = 0\n",
    "# i < 3 응 > print(i) 0 > i = 1\n",
    "# i < 3 응 > print(i) 1 > i = 2\n",
    "# i < 3 응 > print(i) 2 > i = 3\n",
    "# i < 3 아니오 > 종료"
   ]
  },
  {
   "cell_type": "code",
   "execution_count": null,
   "id": "da6185a2",
   "metadata": {},
   "outputs": [],
   "source": [
    "# 함수\n",
    "# 내 함수 만들기: 내 함수 쓰고 싶으면 이거 준비해와\n",
    "def 함수이름(이거):\n",
    "    # 함수를 호출했을 때 실행됨\n",
    "    print(이거)"
   ]
  },
  {
   "cell_type": "code",
   "execution_count": null,
   "id": "8be67b14",
   "metadata": {},
   "outputs": [],
   "source": [
    "함수이름(이거) # 이거 = 파라미터, 매개변수, 입력변수"
   ]
  },
  {
   "cell_type": "code",
   "execution_count": null,
   "id": "c4d1f403",
   "metadata": {},
   "outputs": [],
   "source": [
    "def 함수이름2(이거1, 이거2):\n",
    "    # 함수를 호출했을 때 실행됨\n",
    "    print(이거1, 이거2)"
   ]
  },
  {
   "cell_type": "code",
   "execution_count": null,
   "id": "64f9311a",
   "metadata": {},
   "outputs": [],
   "source": [
    "함수이름(1, 2) # 이거1 = 1, 이거2 = 2\n",
    "함수이름(2, 1) # 이거1 = 2, 이거2 = 1\n",
    "함수이름(이거2=2, 이거1=1) # 이거1 = 1, 이거2 = 2"
   ]
  },
  {
   "cell_type": "markdown",
   "id": "97d5892f",
   "metadata": {},
   "source": [
    "조건문,\"1. 조건이 'x가 10보다 크다'일 때 if문을 완성하세요:\n",
    "조건문,2. 조건이 '변수 name이 'Alice'일 때'인 조건문을 작성하세요.\n",
    "조건문,3. '점수(score)가 90 이상이면 A 출력'하는 조건문을 작성하세요.\n",
    "조건문,4. '리스트가 비어 있지 않으면 실행'하는 if문을 작성하세요.\n",
    "조건문,5. 'x가 0보다 작으면 음수입니다 출력'하는 조건문을 작성하세요.\n",
    "조건문,6. 'a가 b보다 크거나 같을 때'의 조건식을 if문으로 작성하세요.\n",
    "조건문,7. 'temp가 37.5보다 크면 발열'을 출력하는 조건문을 작성하세요.\n",
    "조건문,8. 'num이 2의 배수이면 짝수 출력'하는 조건문을 작성하세요.\n",
    "조건문,9. 'text가 빈 문자열이 아니면 출력'하는 조건문을 작성하세요.\n",
    "조건문,10. 'key가 dict에 있을 경우'만 실행되는 조건문을 작성하세요.\n",
    "반복문,1. 리스트 numbers의 모든 값을 출력하는 for문을 작성하세요.\n",
    "반복문,2. 1부터 5까지 출력하는 for문을 작성하세요.\n",
    "반복문,3. names 리스트에서 각 이름 앞에 '안녕하세요'를 붙여 출력하는 반복문을 작성하세요.\n",
    "반복문,4. range()를 이용해 0부터 9까지 합을 구하는 코드를 작성하세요.\n",
    "반복문,5. 리스트 scores에서 60점 이상만 출력하는 반복문을 작성하세요.\n",
    "반복문,6. 반복문을 이용해 '파이썬'을 5번 출력하는 코드를 작성하세요.\n",
    "반복문,7. 딕셔너리 item에서 key와 value를 한 줄씩 출력하는 반복문을 작성하세요.\n",
    "반복문,8. 리스트 data에서 문자열 길이가 5 이상인 것만 출력하는 반복문을 작성하세요.\n",
    "반복문,9. enumerate를 사용하여 리스트와 인덱스를 함께 출력하는 for문을 작성하세요.\n",
    "반복문,\"10. break를 사용하여 3이 나오면 멈추는 for문을 작성하세요. (리스트: [1, 2, 3, 4])\"\n",
    "함수,1. 이름을 받아 인사말을 출력하는 함수를 작성하세요. (이름을 매개변수로)\n",
    "함수,2. 두 수를 더해 결과를 반환하는 함수를 작성하세요.\n",
    "함수,3. 문자열을 받아 글자 수를 반환하는 함수를 작성하세요.\n",
    "함수,4. 리스트를 받아 짝수만 반환하는 함수를 작성하세요.\n",
    "함수,\"5. 숫자를 받아 3의 배수면 True, 아니면 False를 반환하는 함수를 작성하세요.\"\n",
    "함수,\"6. 'Hello, Python!'을 출력하는 함수를 작성하세요. (매개변수 없음)\"\n",
    "함수,7. 두 문자열을 받아 연결(concatenate)한 결과를 반환하는 함수를 작성하세요.\n",
    "함수,8. 리스트를 받아 최대값을 반환하는 함수를 작성하세요.\n",
    "함수,9. 숫자 n을 받아 1부터 n까지의 합을 반환하는 함수를 작성하세요.\n",
    "함수,10. 리스트를 받아 각 요소를 제곱한 결과 리스트를 반환하는 함수를 작성하세요."
   ]
  },
  {
   "cell_type": "code",
   "execution_count": null,
   "id": "3b042454",
   "metadata": {},
   "outputs": [],
   "source": [
    "import json\n",
    "\n",
    "with open(\"data/news_keyword_data.json\", \"r\", encoding=\"utf-8\") as f:\n",
    "    news_list = json.load(f)\n",
    "\n",
    "# 예시 출력\n",
    "print(type(news_list))\n",
    "news_list"
   ]
  },
  {
   "cell_type": "code",
   "execution_count": null,
   "id": "a4a4a15b",
   "metadata": {},
   "outputs": [],
   "source": [
    "# news_list에 있는 publisher에서 기자 이름만 가지고 오고 싶습니다.\n",
    "# 반복문과 제어문을 사용해서 news에 news_list의 데이터가 끝날 때 까지 가지고 오고\n",
    "# 그 중에서도 publisher를 가지고 온다.\n",
    "# 그 안에서 기자 이름만 가지고 오는데 그 가지고 온 이름을 name이라는 키 안에 넣는다.\n",
    "\n",
    "for news in news_list:\n",
    "    news_data1 = news[\"publisher\"].split(\"_\")\n",
    "    # print(len(news_data1))\n",
    "    if len(news_data1) == 0:\n",
    "        # print(news_data1[0])\n",
    "        news[\"name\"] = news_data1[0]\n",
    "    else:\n",
    "        news[\"name\"] = \"\"\n",
    "    print(news_data1[0])\n",
    "    \n",
    "    \n",
    "\n",
    "\n",
    "\n"
   ]
  },
  {
   "cell_type": "code",
   "execution_count": null,
   "id": "3ba9bdce",
   "metadata": {},
   "outputs": [],
   "source": [
    "# 뉴스에서 link에 있는 주소에서 economy 부분을 밖으로 빼서 따로 카테고리라는 키에 저장하고 싶어\n",
    "# 뉴스에서 link를 가지고온다\n",
    "# link에 있는 주소에서 economy를 밖으로 뺀다.\n",
    "# 카테고리 키를 만들어서 economy를 저장한다.\n",
    "\n",
    "for 뉴스 in 뉴스들:\n",
    "    # print(뉴스[\"link\"])\n",
    "    # print(\"=\"*50)\n",
    "    address = 뉴스[\"link\"]\n",
    "    # print(address.split(\"/\")[3])\n",
    "    if len(address.split(\"/\")) == 7:\n",
    "        뉴스[\"카테고리\"] = address.split(\"/\")[3]\n",
    "    else:\n",
    "        뉴스[\"카테고리\"] = \"\"\n",
    "    \n",
    "\n"
   ]
  },
  {
   "cell_type": "code",
   "execution_count": null,
   "id": "092476a6",
   "metadata": {},
   "outputs": [],
   "source": [
    "# 조건문,\"1. 조건이 'x가 10보다 크다'일 때 if문을 완성하세요:\n",
    "\n",
    "x = 11\n",
    "\n",
    "if x >= 10:\n",
    "    print(\"x가 10보다 크다\")\n",
    "else:\n",
    "    print(\"X가 10보다 작다\")"
   ]
  },
  {
   "cell_type": "code",
   "execution_count": null,
   "id": "08278c8b",
   "metadata": {},
   "outputs": [],
   "source": [
    "# 조건문,2. 조건이 '변수 name이 'Alice'일 때'인 조건문을 작성하세요.\n",
    "\n",
    "name = \"Alice\"\n",
    "\n",
    "if name == \"Alice\":\n",
    "    print(\"Alice가 맞습니다.\")\n",
    "else:\n",
    "    print(\"Alice가 아닙니다.\")"
   ]
  },
  {
   "cell_type": "code",
   "execution_count": null,
   "id": "c9be38b3",
   "metadata": {},
   "outputs": [],
   "source": [
    "# 조건문,3. '점수(score)가 90 이상이면 A 출력'하는 조건문을 작성하세요.\n",
    "\n",
    "score = 90\n",
    "\n",
    "if score >= 90:\n",
    "    print(\"A\")\n",
    "else:\n",
    "    print(\"죽어라\")"
   ]
  },
  {
   "cell_type": "code",
   "execution_count": null,
   "id": "92107270",
   "metadata": {},
   "outputs": [],
   "source": [
    "# 조건문,4. '리스트가 비어 있지 않으면 실행'하는 if문을 작성하세요.\n",
    "\n",
    "list = [1, 2, 3]\n",
    "\n",
    "if list == []:\n",
    "    print(\"비어 있습니다!\")\n",
    "else:\n",
    "    print(\"비어 있지 않습니다!\")"
   ]
  },
  {
   "cell_type": "code",
   "execution_count": null,
   "id": "73aed9c8",
   "metadata": {},
   "outputs": [],
   "source": [
    "# 조건문,5. 'x가 0보다 작으면 음수입니다 출력'하는 조건문을 작성하세요.\n",
    "\n",
    "x = -1\n",
    "\n",
    "if x < 0:\n",
    "    print(\"음수 입니다\")\n",
    "else:\n",
    "    print(\"음수가 아닙니다\")"
   ]
  },
  {
   "cell_type": "code",
   "execution_count": null,
   "id": "943c3ea0",
   "metadata": {},
   "outputs": [],
   "source": [
    "# 조건문,6. 'a가 b보다 크거나 같을 때'의 조건식을 if문으로 작성하세요.\n",
    "\n",
    "a = 10\n",
    "b = 9.5\n",
    "\n",
    "if a >= b:\n",
    "    print(\"a가 b보다 큽니다\")\n",
    "else:\n",
    "    print(\"a가 b보다 작습니다\")"
   ]
  },
  {
   "cell_type": "code",
   "execution_count": null,
   "id": "490d8aa1",
   "metadata": {},
   "outputs": [],
   "source": [
    "# 조건문,7. 'temp가 37.5보다 크면 발열'을 출력하는 조건문을 작성하세요.\n",
    "\n",
    "temp = 38.5\n",
    "\n",
    "if temp > 37.5:\n",
    "    print(\"발열\")\n",
    "else:\n",
    "    print(\"노발열\")\n",
    "\n",
    "\n",
    "# 조건문,8. 'num이 2의 배수이면 짝수 출력'하는 조건문을 작성하세요.\n",
    "\n",
    "num = 10\n",
    "\n",
    "if num % 2 == 0:\n",
    "    print(\"짝수\")\n",
    "else:\n",
    "    print(\"홀수\")"
   ]
  },
  {
   "cell_type": "code",
   "execution_count": null,
   "id": "a3621307",
   "metadata": {},
   "outputs": [],
   "source": [
    "# 조건문,9. 'text가 빈 문자열이 아니면 출력'하는 조건문을 작성하세요.\n",
    "\n",
    "text = \"빈물자열 아님\"\n",
    "\n",
    "if text == \"\":\n",
    "    print(\"빈문자열\", text)\n",
    "else:\n",
    "    print(\"빈문자열 아님\")"
   ]
  },
  {
   "cell_type": "code",
   "execution_count": null,
   "id": "5191eac4",
   "metadata": {},
   "outputs": [],
   "source": [
    "# 조건문,10. 'key가 dict에 있을 경우'만 실행되는 조건문을 작성하세요.\n",
    "\n",
    "my_dict = {\"name\": \"Yojun\", \"age\": 29}\n",
    "key = \"name\"\n",
    "\n",
    "if key in my_dict:\n",
    "    print(f\"{key}가 딕셔런리에 있습니다.{my_dict[key]}\")\n",
    "else:\n",
    "    print(f\"\")\n",
    "\n"
   ]
  },
  {
   "cell_type": "code",
   "execution_count": null,
   "id": "d21494a0",
   "metadata": {},
   "outputs": [],
   "source": [
    "# 반복문,1. 리스트 numbers의 모든 값을 출력하는 for문을 작성하세요.\n",
    "\n",
    "my_list = [\"yo\", \"me\", \"hi\"]\n",
    "\n",
    "for my in my_list:\n",
    "    print(my)\n"
   ]
  },
  {
   "cell_type": "code",
   "execution_count": null,
   "id": "c4653108",
   "metadata": {},
   "outputs": [],
   "source": [
    "# 반복문,2. 1부터 5까지 출력하는 for문을 작성하세요.\n",
    "\n",
    "for num in range(1, 6):\n",
    "    print(num)"
   ]
  },
  {
   "cell_type": "code",
   "execution_count": null,
   "id": "cdb775d0",
   "metadata": {},
   "outputs": [],
   "source": [
    "# 반복문,3. names 리스트에서 각 이름 앞에 '안녕하세요'를 붙여 출력하는 반복문을 작성하세요.\n",
    "\n",
    "names = [\"차요준\", \"이승기\", \"홍길동\"]\n",
    "\n",
    "for name in names:\n",
    "    print(f\"안녕하세요 {name}\")"
   ]
  },
  {
   "cell_type": "code",
   "execution_count": null,
   "id": "3e0b023f",
   "metadata": {},
   "outputs": [],
   "source": [
    "# 반복문,4. range()를 이용해 0부터 9까지 합을 구하는 코드를 작성하세요.\n",
    "\n",
    "for num in range(1, 10):\n",
    "    print(num)"
   ]
  },
  {
   "cell_type": "code",
   "execution_count": null,
   "id": "db869198",
   "metadata": {},
   "outputs": [],
   "source": [
    "# 반복문,5. 리스트 scores에서 60점 이상만 출력하는 반복문을 작성하세요.\n",
    "\n",
    "scores = [40, 60, 70, 52]\n",
    "\n",
    "for score in scores:\n",
    "    if score >= 60:\n",
    "        print(score)\n",
    "    else:\n",
    "        print(\"분발하세요!\")"
   ]
  },
  {
   "cell_type": "code",
   "execution_count": null,
   "id": "a059a781",
   "metadata": {},
   "outputs": [],
   "source": [
    "# 반복문,6. 반복문을 이용해 '파이썬'을 5번 출력하는 코드를 작성하세요.\n",
    "\n",
    "for _ in range(1, 6):\n",
    "    print(\"파이썬\")"
   ]
  },
  {
   "cell_type": "code",
   "execution_count": null,
   "id": "c92a6918",
   "metadata": {},
   "outputs": [],
   "source": [
    "# 반복문,7. 딕셔너리 item에서 key와 value를 한 줄씩 출력하는 반복문을 작성하세요\n",
    "\n",
    "item = {\"name\": \"jun\", \"age\": 29, \"hieght\": 184}\n",
    "\n",
    "for key, value in item.items():\n",
    "    print(f\"{key}는 {value} 입니다\")"
   ]
  },
  {
   "cell_type": "code",
   "execution_count": null,
   "id": "dea0794a",
   "metadata": {},
   "outputs": [],
   "source": [
    "# 반복문,8. 리스트 data에서 문자열 길이가 5 이상인 것만 출력하는 반복문을 작성하세요.\n",
    "\n",
    "data = [\"apple\", \"cat\", \"banana\", \"dog\", \"grape\", \"elephant\"]\n",
    "\n",
    "for data_list in data:\n",
    "    if len(data_list) >= 5 and data_list.startswith(\"a\"):\n",
    "        print(data_list)\n",
    "\n"
   ]
  },
  {
   "cell_type": "code",
   "execution_count": null,
   "id": "0a99c462",
   "metadata": {},
   "outputs": [],
   "source": [
    "# 반복문,9. enumerate를 사용하여 리스트와 인덱스를 함께 출력하는 for문을 작성하세요.\n",
    "\n",
    "data = [\"cat\" \"apple\", \"banana\", \"dog\"]\n",
    "\n",
    "for i, name in enumerate(data, start=1):\n",
    "    print(f\"{i} : {name}\")"
   ]
  },
  {
   "cell_type": "code",
   "execution_count": null,
   "id": "d015d446",
   "metadata": {},
   "outputs": [],
   "source": [
    "# 반복문,\"10. break를 사용하여 3이 나오면 멈추는 for문을 작성하세요. (리스트: [1, 2, 3, 4])\"\n",
    "\n",
    "lists = [1, 2, 3, 4, 5, 6, 7, 8, 9, 10]\n",
    "\n",
    "for list in lists:\n",
    "    print(list)\n",
    "    if list == 3:\n",
    "        break\n"
   ]
  },
  {
   "cell_type": "code",
   "execution_count": null,
   "id": "927268d8",
   "metadata": {},
   "outputs": [],
   "source": [
    "s1 = set([1, 2, 3, 4, 5, 6])\n",
    "s2 = set([4, 5, 6, 7, 8, 9])\n",
    "\n",
    "s1 & s2\n",
    "\n",
    "print(type(s1))"
   ]
  },
  {
   "cell_type": "code",
   "execution_count": null,
   "id": "6b5eed85",
   "metadata": {},
   "outputs": [],
   "source": [
    "a = 80\n",
    "b = 75\n",
    "c = 55\n",
    "\n",
    "(a+b+c) / 3\n",
    "\n",
    "    \n"
   ]
  },
  {
   "cell_type": "code",
   "execution_count": 214,
   "id": "d3a2634d",
   "metadata": {},
   "outputs": [
    {
     "ename": "TypeError",
     "evalue": "'int' object is not iterable",
     "output_type": "error",
     "traceback": [
      "\u001b[1;31m---------------------------------------------------------------------------\u001b[0m",
      "\u001b[1;31mTypeError\u001b[0m                                 Traceback (most recent call last)",
      "Cell \u001b[1;32mIn[214], line 3\u001b[0m\n\u001b[0;32m      1\u001b[0m a \u001b[38;5;241m=\u001b[39m \u001b[38;5;241m13\u001b[39m\n\u001b[1;32m----> 3\u001b[0m \u001b[38;5;28;01mfor\u001b[39;00m b \u001b[38;5;129;01min\u001b[39;00m a:\n\u001b[0;32m      4\u001b[0m     b \u001b[38;5;241m%\u001b[39m \u001b[38;5;241m2\u001b[39m \u001b[38;5;241m==\u001b[39m \u001b[38;5;241m0\u001b[39m\n\u001b[0;32m      5\u001b[0m     \u001b[38;5;28mprint\u001b[39m(\u001b[38;5;124m\"\u001b[39m\u001b[38;5;124m짝수\u001b[39m\u001b[38;5;124m\"\u001b[39m)\n",
      "\u001b[1;31mTypeError\u001b[0m: 'int' object is not iterable"
     ]
    }
   ],
   "source": [
    "a = 13\n",
    "\n",
    "for b in a:\n",
    "    b % 2 == 0\n",
    "    print(\"짝수\")\n",
    "else:\n",
    "    (\"홀수\")"
   ]
  }
 ],
 "metadata": {
  "kernelspec": {
   "display_name": "POTENUP",
   "language": "python",
   "name": "python3"
  },
  "language_info": {
   "codemirror_mode": {
    "name": "ipython",
    "version": 3
   },
   "file_extension": ".py",
   "mimetype": "text/x-python",
   "name": "python",
   "nbconvert_exporter": "python",
   "pygments_lexer": "ipython3",
   "version": "3.10.18"
  }
 },
 "nbformat": 4,
 "nbformat_minor": 5
}
